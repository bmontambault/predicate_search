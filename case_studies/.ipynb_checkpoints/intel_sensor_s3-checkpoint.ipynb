{
 "cells": [
  {
   "cell_type": "code",
   "execution_count": 1,
   "metadata": {},
   "outputs": [],
   "source": [
    "import pandas as pd\n",
    "import numpy as np\n",
    "import scipy.stats as st\n",
    "from time import time\n",
    "import pickle\n",
    "import matplotlib.pyplot as plt\n",
    "from matplotlib.patches import Rectangle\n",
    "\n",
    "\n",
    "from context import predicate_search\n",
    "from predicate_search import PredicateInduction, RobustNormal, Density, BottomUp, Predicate"
   ]
  },
  {
   "cell_type": "code",
   "execution_count": 2,
   "metadata": {},
   "outputs": [],
   "source": [
    "data = pd.read_csv('../data/intel_sensor_s3.csv')\n",
    "data.dtime = pd.to_datetime(data.dtime)"
   ]
  },
  {
   "cell_type": "code",
   "execution_count": 17,
   "metadata": {},
   "outputs": [
    {
     "data": {
      "text/html": [
       "<div>\n",
       "<style scoped>\n",
       "    .dataframe tbody tr th:only-of-type {\n",
       "        vertical-align: middle;\n",
       "    }\n",
       "\n",
       "    .dataframe tbody tr th {\n",
       "        vertical-align: top;\n",
       "    }\n",
       "\n",
       "    .dataframe thead th {\n",
       "        text-align: right;\n",
       "    }\n",
       "</style>\n",
       "<table border=\"1\" class=\"dataframe\">\n",
       "  <thead>\n",
       "    <tr style=\"text-align: right;\">\n",
       "      <th></th>\n",
       "      <th>moteid</th>\n",
       "      <th>temperature</th>\n",
       "      <th>humidity</th>\n",
       "      <th>light</th>\n",
       "      <th>voltage</th>\n",
       "      <th>dtime</th>\n",
       "    </tr>\n",
       "  </thead>\n",
       "  <tbody>\n",
       "    <tr>\n",
       "      <th>83368</th>\n",
       "      <td>15.0</td>\n",
       "      <td>122.153</td>\n",
       "      <td>-4.00000</td>\n",
       "      <td>1847.36</td>\n",
       "      <td>2.27556</td>\n",
       "      <td>2004-03-02 15:49:25.114608</td>\n",
       "    </tr>\n",
       "    <tr>\n",
       "      <th>85168</th>\n",
       "      <td>15.0</td>\n",
       "      <td>122.153</td>\n",
       "      <td>-3.27191</td>\n",
       "      <td>1847.36</td>\n",
       "      <td>2.30202</td>\n",
       "      <td>2004-03-02 07:39:29.812714</td>\n",
       "    </tr>\n",
       "    <tr>\n",
       "      <th>85169</th>\n",
       "      <td>15.0</td>\n",
       "      <td>122.153</td>\n",
       "      <td>1.69454</td>\n",
       "      <td>1847.36</td>\n",
       "      <td>2.30202</td>\n",
       "      <td>2004-03-02 07:40:23.401811</td>\n",
       "    </tr>\n",
       "    <tr>\n",
       "      <th>85170</th>\n",
       "      <td>15.0</td>\n",
       "      <td>122.153</td>\n",
       "      <td>2.72497</td>\n",
       "      <td>1847.36</td>\n",
       "      <td>2.30202</td>\n",
       "      <td>2004-03-02 07:40:59.964933</td>\n",
       "    </tr>\n",
       "    <tr>\n",
       "      <th>85171</th>\n",
       "      <td>15.0</td>\n",
       "      <td>122.153</td>\n",
       "      <td>3.51504</td>\n",
       "      <td>1847.36</td>\n",
       "      <td>2.31097</td>\n",
       "      <td>2004-03-02 07:41:23.141843</td>\n",
       "    </tr>\n",
       "    <tr>\n",
       "      <th>85172</th>\n",
       "      <td>15.0</td>\n",
       "      <td>122.153</td>\n",
       "      <td>10.75530</td>\n",
       "      <td>1847.36</td>\n",
       "      <td>2.31097</td>\n",
       "      <td>2004-03-02 07:44:15.939767</td>\n",
       "    </tr>\n",
       "    <tr>\n",
       "      <th>85173</th>\n",
       "      <td>15.0</td>\n",
       "      <td>122.153</td>\n",
       "      <td>13.01150</td>\n",
       "      <td>1847.36</td>\n",
       "      <td>2.31097</td>\n",
       "      <td>2004-03-02 07:44:58.211213</td>\n",
       "    </tr>\n",
       "    <tr>\n",
       "      <th>85174</th>\n",
       "      <td>15.0</td>\n",
       "      <td>122.153</td>\n",
       "      <td>14.49220</td>\n",
       "      <td>1847.36</td>\n",
       "      <td>2.31097</td>\n",
       "      <td>2004-03-02 07:45:23.153435</td>\n",
       "    </tr>\n",
       "    <tr>\n",
       "      <th>85175</th>\n",
       "      <td>15.0</td>\n",
       "      <td>122.153</td>\n",
       "      <td>14.87050</td>\n",
       "      <td>1847.36</td>\n",
       "      <td>2.31097</td>\n",
       "      <td>2004-03-02 07:45:58.507635</td>\n",
       "    </tr>\n",
       "    <tr>\n",
       "      <th>85176</th>\n",
       "      <td>15.0</td>\n",
       "      <td>122.153</td>\n",
       "      <td>15.62540</td>\n",
       "      <td>1847.36</td>\n",
       "      <td>2.31097</td>\n",
       "      <td>2004-03-02 07:47:53.923766</td>\n",
       "    </tr>\n",
       "    <tr>\n",
       "      <th>85177</th>\n",
       "      <td>15.0</td>\n",
       "      <td>122.153</td>\n",
       "      <td>18.39900</td>\n",
       "      <td>1847.36</td>\n",
       "      <td>2.32000</td>\n",
       "      <td>2004-03-02 07:51:29.937206</td>\n",
       "    </tr>\n",
       "    <tr>\n",
       "      <th>85178</th>\n",
       "      <td>15.0</td>\n",
       "      <td>122.153</td>\n",
       "      <td>20.32970</td>\n",
       "      <td>1847.36</td>\n",
       "      <td>2.32000</td>\n",
       "      <td>2004-03-02 07:53:53.300899</td>\n",
       "    </tr>\n",
       "    <tr>\n",
       "      <th>85179</th>\n",
       "      <td>15.0</td>\n",
       "      <td>122.153</td>\n",
       "      <td>20.69930</td>\n",
       "      <td>1847.36</td>\n",
       "      <td>2.32000</td>\n",
       "      <td>2004-03-02 07:56:29.284833</td>\n",
       "    </tr>\n",
       "    <tr>\n",
       "      <th>85180</th>\n",
       "      <td>15.0</td>\n",
       "      <td>122.153</td>\n",
       "      <td>19.58890</td>\n",
       "      <td>1847.36</td>\n",
       "      <td>2.32000</td>\n",
       "      <td>2004-03-02 07:58:15.921110</td>\n",
       "    </tr>\n",
       "    <tr>\n",
       "      <th>85181</th>\n",
       "      <td>15.0</td>\n",
       "      <td>122.153</td>\n",
       "      <td>20.29270</td>\n",
       "      <td>1847.36</td>\n",
       "      <td>2.32000</td>\n",
       "      <td>2004-03-02 07:58:20.261664</td>\n",
       "    </tr>\n",
       "    <tr>\n",
       "      <th>85182</th>\n",
       "      <td>15.0</td>\n",
       "      <td>122.153</td>\n",
       "      <td>21.51030</td>\n",
       "      <td>1847.36</td>\n",
       "      <td>2.32000</td>\n",
       "      <td>2004-03-02 08:00:07.767606</td>\n",
       "    </tr>\n",
       "    <tr>\n",
       "      <th>85183</th>\n",
       "      <td>15.0</td>\n",
       "      <td>122.153</td>\n",
       "      <td>22.31870</td>\n",
       "      <td>1847.36</td>\n",
       "      <td>2.32000</td>\n",
       "      <td>2004-03-02 08:01:43.199984</td>\n",
       "    </tr>\n",
       "    <tr>\n",
       "      <th>85184</th>\n",
       "      <td>15.0</td>\n",
       "      <td>122.153</td>\n",
       "      <td>22.53860</td>\n",
       "      <td>1847.36</td>\n",
       "      <td>2.32000</td>\n",
       "      <td>2004-03-02 08:03:01.898253</td>\n",
       "    </tr>\n",
       "    <tr>\n",
       "      <th>85185</th>\n",
       "      <td>15.0</td>\n",
       "      <td>122.153</td>\n",
       "      <td>22.68520</td>\n",
       "      <td>1847.36</td>\n",
       "      <td>2.32000</td>\n",
       "      <td>2004-03-02 08:03:30.021843</td>\n",
       "    </tr>\n",
       "    <tr>\n",
       "      <th>85186</th>\n",
       "      <td>15.0</td>\n",
       "      <td>122.153</td>\n",
       "      <td>23.56260</td>\n",
       "      <td>1847.36</td>\n",
       "      <td>2.32000</td>\n",
       "      <td>2004-03-02 08:04:53.326071</td>\n",
       "    </tr>\n",
       "    <tr>\n",
       "      <th>85187</th>\n",
       "      <td>15.0</td>\n",
       "      <td>122.153</td>\n",
       "      <td>18.32450</td>\n",
       "      <td>1847.36</td>\n",
       "      <td>2.32000</td>\n",
       "      <td>2004-03-02 08:11:12.717630</td>\n",
       "    </tr>\n",
       "    <tr>\n",
       "      <th>85188</th>\n",
       "      <td>15.0</td>\n",
       "      <td>122.153</td>\n",
       "      <td>22.53860</td>\n",
       "      <td>1847.36</td>\n",
       "      <td>2.32910</td>\n",
       "      <td>2004-03-02 08:13:43.642915</td>\n",
       "    </tr>\n",
       "    <tr>\n",
       "      <th>85189</th>\n",
       "      <td>15.0</td>\n",
       "      <td>122.153</td>\n",
       "      <td>22.24530</td>\n",
       "      <td>1847.36</td>\n",
       "      <td>2.32910</td>\n",
       "      <td>2004-03-02 08:18:29.789971</td>\n",
       "    </tr>\n",
       "    <tr>\n",
       "      <th>85190</th>\n",
       "      <td>15.0</td>\n",
       "      <td>122.153</td>\n",
       "      <td>22.35530</td>\n",
       "      <td>1847.36</td>\n",
       "      <td>2.33827</td>\n",
       "      <td>2004-03-02 08:19:43.376768</td>\n",
       "    </tr>\n",
       "    <tr>\n",
       "      <th>85191</th>\n",
       "      <td>15.0</td>\n",
       "      <td>122.153</td>\n",
       "      <td>16.82860</td>\n",
       "      <td>1847.36</td>\n",
       "      <td>2.32000</td>\n",
       "      <td>2004-03-02 08:20:03.125103</td>\n",
       "    </tr>\n",
       "    <tr>\n",
       "      <th>85192</th>\n",
       "      <td>15.0</td>\n",
       "      <td>122.153</td>\n",
       "      <td>16.30290</td>\n",
       "      <td>1847.36</td>\n",
       "      <td>2.32000</td>\n",
       "      <td>2004-03-02 08:21:12.497319</td>\n",
       "    </tr>\n",
       "    <tr>\n",
       "      <th>85193</th>\n",
       "      <td>15.0</td>\n",
       "      <td>122.153</td>\n",
       "      <td>16.75350</td>\n",
       "      <td>1847.36</td>\n",
       "      <td>2.33827</td>\n",
       "      <td>2004-03-02 08:23:13.639662</td>\n",
       "    </tr>\n",
       "    <tr>\n",
       "      <th>85194</th>\n",
       "      <td>15.0</td>\n",
       "      <td>122.153</td>\n",
       "      <td>22.75840</td>\n",
       "      <td>1847.36</td>\n",
       "      <td>2.32910</td>\n",
       "      <td>2004-03-02 08:23:54.528912</td>\n",
       "    </tr>\n",
       "    <tr>\n",
       "      <th>85195</th>\n",
       "      <td>15.0</td>\n",
       "      <td>122.153</td>\n",
       "      <td>25.66960</td>\n",
       "      <td>1847.36</td>\n",
       "      <td>2.33827</td>\n",
       "      <td>2004-03-02 08:27:04.270368</td>\n",
       "    </tr>\n",
       "    <tr>\n",
       "      <th>85196</th>\n",
       "      <td>15.0</td>\n",
       "      <td>122.153</td>\n",
       "      <td>26.53590</td>\n",
       "      <td>1847.36</td>\n",
       "      <td>2.33827</td>\n",
       "      <td>2004-03-02 08:28:35.714904</td>\n",
       "    </tr>\n",
       "    <tr>\n",
       "      <th>85197</th>\n",
       "      <td>15.0</td>\n",
       "      <td>122.153</td>\n",
       "      <td>27.79360</td>\n",
       "      <td>1847.36</td>\n",
       "      <td>2.34751</td>\n",
       "      <td>2004-03-02 08:31:30.831185</td>\n",
       "    </tr>\n",
       "    <tr>\n",
       "      <th>85198</th>\n",
       "      <td>15.0</td>\n",
       "      <td>122.153</td>\n",
       "      <td>27.90110</td>\n",
       "      <td>1847.36</td>\n",
       "      <td>2.34751</td>\n",
       "      <td>2004-03-02 08:33:11.804488</td>\n",
       "    </tr>\n",
       "    <tr>\n",
       "      <th>85199</th>\n",
       "      <td>15.0</td>\n",
       "      <td>122.153</td>\n",
       "      <td>28.04430</td>\n",
       "      <td>1847.36</td>\n",
       "      <td>2.34751</td>\n",
       "      <td>2004-03-02 08:33:40.305303</td>\n",
       "    </tr>\n",
       "    <tr>\n",
       "      <th>85200</th>\n",
       "      <td>15.0</td>\n",
       "      <td>122.153</td>\n",
       "      <td>28.04430</td>\n",
       "      <td>1847.36</td>\n",
       "      <td>2.34751</td>\n",
       "      <td>2004-03-02 08:35:53.402871</td>\n",
       "    </tr>\n",
       "    <tr>\n",
       "      <th>85201</th>\n",
       "      <td>15.0</td>\n",
       "      <td>122.153</td>\n",
       "      <td>28.04430</td>\n",
       "      <td>1847.36</td>\n",
       "      <td>2.34751</td>\n",
       "      <td>2004-03-02 08:36:35.727068</td>\n",
       "    </tr>\n",
       "  </tbody>\n",
       "</table>\n",
       "</div>"
      ],
      "text/plain": [
       "       moteid  temperature  humidity    light  voltage  \\\n",
       "83368    15.0      122.153  -4.00000  1847.36  2.27556   \n",
       "85168    15.0      122.153  -3.27191  1847.36  2.30202   \n",
       "85169    15.0      122.153   1.69454  1847.36  2.30202   \n",
       "85170    15.0      122.153   2.72497  1847.36  2.30202   \n",
       "85171    15.0      122.153   3.51504  1847.36  2.31097   \n",
       "85172    15.0      122.153  10.75530  1847.36  2.31097   \n",
       "85173    15.0      122.153  13.01150  1847.36  2.31097   \n",
       "85174    15.0      122.153  14.49220  1847.36  2.31097   \n",
       "85175    15.0      122.153  14.87050  1847.36  2.31097   \n",
       "85176    15.0      122.153  15.62540  1847.36  2.31097   \n",
       "85177    15.0      122.153  18.39900  1847.36  2.32000   \n",
       "85178    15.0      122.153  20.32970  1847.36  2.32000   \n",
       "85179    15.0      122.153  20.69930  1847.36  2.32000   \n",
       "85180    15.0      122.153  19.58890  1847.36  2.32000   \n",
       "85181    15.0      122.153  20.29270  1847.36  2.32000   \n",
       "85182    15.0      122.153  21.51030  1847.36  2.32000   \n",
       "85183    15.0      122.153  22.31870  1847.36  2.32000   \n",
       "85184    15.0      122.153  22.53860  1847.36  2.32000   \n",
       "85185    15.0      122.153  22.68520  1847.36  2.32000   \n",
       "85186    15.0      122.153  23.56260  1847.36  2.32000   \n",
       "85187    15.0      122.153  18.32450  1847.36  2.32000   \n",
       "85188    15.0      122.153  22.53860  1847.36  2.32910   \n",
       "85189    15.0      122.153  22.24530  1847.36  2.32910   \n",
       "85190    15.0      122.153  22.35530  1847.36  2.33827   \n",
       "85191    15.0      122.153  16.82860  1847.36  2.32000   \n",
       "85192    15.0      122.153  16.30290  1847.36  2.32000   \n",
       "85193    15.0      122.153  16.75350  1847.36  2.33827   \n",
       "85194    15.0      122.153  22.75840  1847.36  2.32910   \n",
       "85195    15.0      122.153  25.66960  1847.36  2.33827   \n",
       "85196    15.0      122.153  26.53590  1847.36  2.33827   \n",
       "85197    15.0      122.153  27.79360  1847.36  2.34751   \n",
       "85198    15.0      122.153  27.90110  1847.36  2.34751   \n",
       "85199    15.0      122.153  28.04430  1847.36  2.34751   \n",
       "85200    15.0      122.153  28.04430  1847.36  2.34751   \n",
       "85201    15.0      122.153  28.04430  1847.36  2.34751   \n",
       "\n",
       "                           dtime  \n",
       "83368 2004-03-02 15:49:25.114608  \n",
       "85168 2004-03-02 07:39:29.812714  \n",
       "85169 2004-03-02 07:40:23.401811  \n",
       "85170 2004-03-02 07:40:59.964933  \n",
       "85171 2004-03-02 07:41:23.141843  \n",
       "85172 2004-03-02 07:44:15.939767  \n",
       "85173 2004-03-02 07:44:58.211213  \n",
       "85174 2004-03-02 07:45:23.153435  \n",
       "85175 2004-03-02 07:45:58.507635  \n",
       "85176 2004-03-02 07:47:53.923766  \n",
       "85177 2004-03-02 07:51:29.937206  \n",
       "85178 2004-03-02 07:53:53.300899  \n",
       "85179 2004-03-02 07:56:29.284833  \n",
       "85180 2004-03-02 07:58:15.921110  \n",
       "85181 2004-03-02 07:58:20.261664  \n",
       "85182 2004-03-02 08:00:07.767606  \n",
       "85183 2004-03-02 08:01:43.199984  \n",
       "85184 2004-03-02 08:03:01.898253  \n",
       "85185 2004-03-02 08:03:30.021843  \n",
       "85186 2004-03-02 08:04:53.326071  \n",
       "85187 2004-03-02 08:11:12.717630  \n",
       "85188 2004-03-02 08:13:43.642915  \n",
       "85189 2004-03-02 08:18:29.789971  \n",
       "85190 2004-03-02 08:19:43.376768  \n",
       "85191 2004-03-02 08:20:03.125103  \n",
       "85192 2004-03-02 08:21:12.497319  \n",
       "85193 2004-03-02 08:23:13.639662  \n",
       "85194 2004-03-02 08:23:54.528912  \n",
       "85195 2004-03-02 08:27:04.270368  \n",
       "85196 2004-03-02 08:28:35.714904  \n",
       "85197 2004-03-02 08:31:30.831185  \n",
       "85198 2004-03-02 08:33:11.804488  \n",
       "85199 2004-03-02 08:33:40.305303  \n",
       "85200 2004-03-02 08:35:53.402871  \n",
       "85201 2004-03-02 08:36:35.727068  "
      ]
     },
     "execution_count": 17,
     "metadata": {},
     "output_type": "execute_result"
    }
   ],
   "source": [
    "data[data.temperature.round(3)==122.153]"
   ]
  },
  {
   "cell_type": "code",
   "execution_count": 15,
   "metadata": {},
   "outputs": [
    {
     "data": {
      "text/plain": [
       "122.15299999999999"
      ]
     },
     "execution_count": 15,
     "metadata": {},
     "output_type": "execute_result"
    }
   ],
   "source": [
    "data.temperature.max()"
   ]
  },
  {
   "cell_type": "code",
   "execution_count": 3,
   "metadata": {},
   "outputs": [],
   "source": [
    "disc_cols = ['moteid']"
   ]
  },
  {
   "cell_type": "code",
   "execution_count": 4,
   "metadata": {},
   "outputs": [],
   "source": [
    "refit = False"
   ]
  },
  {
   "cell_type": "code",
   "execution_count": 5,
   "metadata": {},
   "outputs": [],
   "source": [
    "if refit:\n",
    "    predicate_induction = PredicateInduction(data, disc_cols)\n",
    "    with open('intel_sensor_s3_pixal.pkl', 'wb') as f:\n",
    "        pickle.dump(predicate_induction, f)\n",
    "else:\n",
    "    with open('intel_sensor_s3_pixal.pkl', 'rb') as f:\n",
    "        predicate_induction = pickle.load(f)"
   ]
  },
  {
   "cell_type": "code",
   "execution_count": 6,
   "metadata": {},
   "outputs": [],
   "source": [
    "distances = predicate_induction.model.distance(predicate_induction.norm_data[['temperature']])"
   ]
  },
  {
   "cell_type": "code",
   "execution_count": 7,
   "metadata": {},
   "outputs": [
    {
     "data": {
      "image/png": "[encoded data removed]",
      "text/plain": [
       "<Figure size 432x288 with 1 Axes>"
      ]
     },
     "metadata": {
      "needs_background": "light"
     },
     "output_type": "display_data"
    }
   ],
   "source": [
    "fig, ax = plt.subplots()\n",
    "ax.plot(data.temperature, distances, 'bo');"
   ]
  },
  {
   "cell_type": "code",
   "execution_count": 8,
   "metadata": {},
   "outputs": [
    {
     "data": {
      "text/plain": [
       "<matplotlib.patches.Rectangle at 0x129e8bf98>"
      ]
     },
     "execution_count": 8,
     "metadata": {},
     "output_type": "execute_result"
    },
    {
     "data": {
      "image/png": "[encoded data removed]",
      "text/plain": [
       "<Figure size 432x288 with 1 Axes>"
      ]
     },
     "metadata": {
      "needs_background": "light"
     },
     "output_type": "display_data"
    }
   ],
   "source": [
    "fig, ax = plt.subplots()\n",
    "ax.plot(data.temperature, distances, 'bo')\n",
    "rect = plt.Rectangle((115, 32), 15, 10, fill=False, facecolor='none', linestyle='--')\n",
    "ax.add_patch(rect)"
   ]
  },
  {
   "cell_type": "code",
   "execution_count": 10,
   "metadata": {
    "scrolled": true
   },
   "outputs": [
    {
     "name": "stdout",
     "output_type": "stream",
     "text": [
      "iter: 0\n",
      "merging\n",
      "voltage in [72]: 2969.927026860172 voltage in [71, 72]: 3228.6510704707994\n",
      "voltage in [71, 72]: 3228.6510704707994 voltage in [71, 72, 73]: 2266.9751344009355\n",
      "humidity in [96]: 2100.0555403220997 humidity in [95, 96]: 2211.9890661682584\n",
      "\n",
      "merged:\n",
      "temperature in [99] 3746.0059279586026\n",
      "voltage in [71, 72] 3228.6510704707994\n",
      "humidity in [95, 96] 2211.9890661682584\n",
      "voltage in [73] 668.9356376674191\n",
      "moteid in [15] 404.68355336578924\n",
      "dtime in [82] 247.62444244164743\n",
      "intersecting 6\n",
      "done intersecting\n",
      "\n",
      "intersected:\n",
      "moteid in [15] and dtime in [82] 3581.8667646659214\n",
      "humidity in [95, 96] and moteid in [15] 2283.001066015156\n",
      "voltage in [73] and dtime in [82] 1899.5717089515722\n",
      "\n",
      "iter: 1\n",
      "merging\n",
      "\n",
      "merged:\n",
      "moteid in [15] and dtime in [82] 3581.8667646659214\n",
      "humidity in [95, 96] and moteid in [15] 2283.001066015156\n",
      "voltage in [73] and dtime in [82] 1899.5717089515722\n",
      "intersecting 3\n",
      "done intersecting\n",
      "\n",
      "intersected:\n",
      "\n"
     ]
    }
   ],
   "source": [
    "index1 = list(data[data.temperature > 122].index)\n",
    "p1 = predicate_induction.find_predicates(targets=['temperature'], c=.5, index=index1, maxiters=2, topn=5)"
   ]
  },
  {
   "cell_type": "code",
   "execution_count": 11,
   "metadata": {},
   "outputs": [
    {
     "name": "stdout",
     "output_type": "stream",
     "text": [
      "((temperature >= 122.15299999999999 and temperature <= 122.15299999999999)) \n",
      "\n",
      "moteid in [15] and ((dtime >= '2004-03-02 07:40:59.642373454' and dtime <= '2004-03-02 23:59:59.543254')) \n",
      "\n",
      "((voltage >= 2.2707543757575754 and voltage <= 2.3342112060606057)) \n",
      "\n",
      "((humidity >= -1854.52 and humidity <= 17.294290909090932)) and moteid in [15] \n",
      "\n",
      "((voltage >= 0.0180369 and voltage <= 2.3659396212121213)) and ((dtime >= '2004-03-02 07:40:59.642373454' and dtime <= '2004-03-02 23:59:59.543254')) \n",
      "\n"
     ]
    }
   ],
   "source": [
    "for p in p1:\n",
    "    print(p, '\\n')"
   ]
  },
  {
   "cell_type": "code",
   "execution_count": 12,
   "metadata": {},
   "outputs": [
    {
     "data": {
      "text/plain": [
       "<matplotlib.patches.Rectangle at 0x13087f710>"
      ]
     },
     "execution_count": 12,
     "metadata": {},
     "output_type": "execute_result"
    },
    {
     "data": {
      "image/png": "[encoded data removed]",
      "text/plain": [
       "<Figure size 432x288 with 1 Axes>"
      ]
     },
     "metadata": {
      "needs_background": "light"
     },
     "output_type": "display_data"
    }
   ],
   "source": [
    "fig, ax = plt.subplots()\n",
    "ax.plot(data.temperature, distances, 'bo')\n",
    "rect = plt.Rectangle((-50, 15), 20, 10, fill=False, facecolor='none', linestyle='--')\n",
    "ax.add_patch(rect)"
   ]
  },
  {
   "cell_type": "code",
   "execution_count": 13,
   "metadata": {
    "scrolled": true
   },
   "outputs": [
    {
     "name": "stdout",
     "output_type": "stream",
     "text": [
      "iter: 0\n",
      "merging\n",
      "\n",
      "merged:\n",
      "humidity in [95] 519.5675576667295\n",
      "temperature in [0] 255.98892951507787\n",
      "intersecting 2\n",
      "done intersecting\n",
      "\n",
      "intersected:\n",
      "\n",
      "iter: 1\n"
     ]
    }
   ],
   "source": [
    "index2 = list(data[data.temperature < -20].index)\n",
    "p2 = predicate_induction.find_predicates(targets=['temperature'], c=.8, index=index2, maxiters=2, topn=5)"
   ]
  },
  {
   "cell_type": "code",
   "execution_count": 14,
   "metadata": {},
   "outputs": [
    {
     "name": "stdout",
     "output_type": "stream",
     "text": [
      "((humidity >= -21.299818181818182 and humidity <= -2.0027636363636248)) \n",
      "\n",
      "((temperature >= -38.4 and temperature <= -36.778252525252526)) \n",
      "\n"
     ]
    }
   ],
   "source": [
    "for p in p2:\n",
    "    print(p, '\\n')"
   ]
  }
 ],
 "metadata": {
  "kernelspec": {
   "display_name": "Python [conda env:forecasting]",
   "language": "python",
   "name": "conda-env-forecasting-py"
  },
  "language_info": {
   "codemirror_mode": {
    "name": "ipython",
    "version": 3
   },
   "file_extension": ".py",
   "mimetype": "text/x-python",
   "name": "python",
   "nbconvert_exporter": "python",
   "pygments_lexer": "ipython3",
   "version": "3.7.0"
  }
 },
 "nbformat": 4,
 "nbformat_minor": 2
}

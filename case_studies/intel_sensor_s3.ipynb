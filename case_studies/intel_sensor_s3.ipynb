{
 "cells": [
  {
   "cell_type": "code",
   "execution_count": 1,
   "metadata": {},
   "outputs": [],
   "source": [
    "import pandas as pd\n",
    "import numpy as np\n",
    "import scipy.stats as st\n",
    "from time import time\n",
    "import pickle\n",
    "import matplotlib.pyplot as plt\n",
    "from matplotlib.patches import Rectangle\n",
    "\n",
    "\n",
    "from context import predicate_search\n",
    "from predicate_search import PredicateInduction, RobustNormal, Density, BottomUp, Predicate"
   ]
  },
  {
   "cell_type": "code",
   "execution_count": 2,
   "metadata": {},
   "outputs": [],
   "source": [
    "data = pd.read_csv('../data/intel_sensor_s3.csv')\n",
    "data.datetime = pd.to_datetime(data.datetime)\n",
    "data = data.drop('epoch', axis=1)\n",
    "data = data.rename(columns={'datetime': 'dtime'})"
   ]
  },
  {
   "cell_type": "code",
   "execution_count": 3,
   "metadata": {},
   "outputs": [],
   "source": [
    "disc_cols = ['moteid']"
   ]
  },
  {
   "cell_type": "code",
   "execution_count": 4,
   "metadata": {},
   "outputs": [],
   "source": [
    "refit = False"
   ]
  },
  {
   "cell_type": "code",
   "execution_count": 5,
   "metadata": {},
   "outputs": [],
   "source": [
    "if refit:\n",
    "    predicate_induction = PredicateInduction(data, disc_cols)\n",
    "    with open('intel_sensor_s3_pixal.pkl', 'wb') as f:\n",
    "        pickle.dump(predicate_induction, f)\n",
    "else:\n",
    "    with open('intel_sensor_s3_pixal.pkl', 'rb') as f:\n",
    "        predicate_induction = pickle.load(f)"
   ]
  },
  {
   "cell_type": "code",
   "execution_count": 6,
   "metadata": {},
   "outputs": [],
   "source": [
    "distances = predicate_induction.model.distance(predicate_induction.norm_data[['temperature']])"
   ]
  },
  {
   "cell_type": "code",
   "execution_count": 7,
   "metadata": {},
   "outputs": [
    {
     "data": {
      "image/png": "[encoded data removed]",
      "text/plain": [
       "<Figure size 432x288 with 1 Axes>"
      ]
     },
     "metadata": {
      "needs_background": "light"
     },
     "output_type": "display_data"
    }
   ],
   "source": [
    "fig, ax = plt.subplots()\n",
    "ax.plot(data.temperature, distances, 'bo');"
   ]
  },
  {
   "cell_type": "code",
   "execution_count": 8,
   "metadata": {},
   "outputs": [
    {
     "data": {
      "text/plain": [
       "<matplotlib.patches.Rectangle at 0x12acc4588>"
      ]
     },
     "execution_count": 8,
     "metadata": {},
     "output_type": "execute_result"
    },
    {
     "data": {
      "image/png": "[encoded data removed]",
      "text/plain": [
       "<Figure size 432x288 with 1 Axes>"
      ]
     },
     "metadata": {
      "needs_background": "light"
     },
     "output_type": "display_data"
    }
   ],
   "source": [
    "fig, ax = plt.subplots()\n",
    "ax.plot(data.temperature, distances, 'bo')\n",
    "rect = plt.Rectangle((115, 32), 15, 10, fill=False, facecolor='none', linestyle='--')\n",
    "ax.add_patch(rect)"
   ]
  },
  {
   "cell_type": "code",
   "execution_count": 9,
   "metadata": {},
   "outputs": [
    {
     "name": "stdout",
     "output_type": "stream",
     "text": [
      "iter: 0\n",
      "merging\n",
      "voltage in [72]: 1174.948887235101 voltage in [71, 72]: 1214.8680418424083\n",
      "voltage in [71, 72]: 1214.8680418424083 voltage in [71, 72, 73]: 580.1073932998706\n",
      "humidity in [96]: 1022.8524156267055 humidity in [95, 96]: 962.8241637788224\n",
      "humidity in [96]: 1022.8524156267055 humidity in [96, 97]: -17.007620361944845\n",
      "\n",
      "merged:\n",
      "temperature in [99] 1289.2823787623581\n",
      "voltage in [71, 72] 1214.8680418424083\n",
      "humidity in [96] 1022.8524156267055\n",
      "humidity in [95] 519.5675576667295\n",
      "voltage in [73] 188.63907573851498\n",
      "moteid in [15] 42.457434829007404\n",
      "dtime in [82] 21.071022013881873\n",
      "light in [99] -2.3808266247442864\n",
      "dtime in [90] -8.458787449600203\n",
      "dtime in [81] -11.0341273633159\n",
      "humidity in [97] -17.648511176845723\n",
      "\n",
      "intersected:\n",
      "moteid in [15] and dtime in [82] 1266.3811393009962\n",
      "voltage in [73] and dtime in [82] 982.6139829571109\n",
      "voltage in [73] and light in [99] 982.6139829571109\n",
      "voltage in [73] and humidity in [97] 959.7374361774603\n",
      "humidity in [95] and moteid in [15] 727.3449657574303\n",
      "humidity in [95] and light in [99] 727.3449657574303\n",
      "moteid in [15] and dtime in [81] 727.3449657574303\n",
      "humidity in [95] and dtime in [90] 633.190569650731\n",
      "humidity in [95] and dtime in [81] 633.190569650731\n",
      "moteid in [15] and dtime in [90] 633.190569650731\n",
      "dtime in [82] and light in [99] 247.03069845910133\n",
      "moteid in [15] and humidity in [97] 226.28669806847293\n",
      "moteid in [15] and light in [99] 181.16726287961222\n",
      "light in [99] and dtime in [81] 53.96066866311713\n",
      "light in [99] and humidity in [97] -0.6138776951243233\n",
      "light in [99] and dtime in [90] -1.8087635012693337\n",
      "dtime in [81] and humidity in [97] -11.02333971396928\n",
      "\n",
      "iter: 1\n",
      "merging\n",
      "moteid in [15] and dtime in [82]: 1266.3811393009962 moteid in [15] and dtime in [81, 82]: 1281.8293799465557\n",
      "moteid in [15] and dtime in [81, 82]: 1281.8293799465557 moteid in [15] and dtime in [81, 82, 90]: 1289.2823787623581\n",
      "humidity in [95] and moteid in [15]: 727.3449657574303 humidity in [95, 97] and moteid in [15]: 244.96122363907833\n",
      "\n",
      "merged:\n",
      "moteid in [15] and dtime in [81, 82, 90] 1289.2823787623581\n",
      "voltage in [73] and dtime in [82] 982.6139829571109\n",
      "voltage in [73] and light in [99] 982.6139829571109\n",
      "voltage in [73] and humidity in [97] 959.7374361774603\n",
      "humidity in [95] and moteid in [15] 727.3449657574303\n",
      "humidity in [95] and light in [99] 727.3449657574303\n",
      "humidity in [95] and dtime in [90] 633.190569650731\n",
      "humidity in [95] and dtime in [81] 633.190569650731\n",
      "dtime in [82] and light in [99] 247.03069845910133\n",
      "moteid in [15] and humidity in [97] 226.28669806847293\n",
      "\n",
      "intersected:\n",
      "dtime in [82] and light in [99] and moteid in [15] and humidity in [97] 1174.948887235101\n",
      "humidity in [95] and dtime in [81, 90] 727.3449657574303\n",
      "\n"
     ]
    }
   ],
   "source": [
    "index1 = list(data[data.temperature > 122].index)\n",
    "p1 = predicate_induction.find_predicates(targets=['temperature'], c=.8, quantile=.25, index=index1, maxiters=2,\n",
    "                                         topn=5)"
   ]
  },
  {
   "cell_type": "code",
   "execution_count": 24,
   "metadata": {},
   "outputs": [
    {
     "name": "stdout",
     "output_type": "stream",
     "text": [
      "moteid in [15] and ((dtime >= '2004-03-02 06:43:24.354086363' and dtime <= '2004-03-02 23:59:59.543254')) \n",
      "\n",
      "((temperature >= 122.15299999999999 and temperature <= 122.15299999999999)) \n",
      "\n",
      "((voltage >= 2.2707543757575754 and voltage <= 2.3342112060606057)) \n",
      "\n",
      "((humidity >= -2.0027636363636248 and humidity <= 17.294290909090932)) \n",
      "\n",
      "((voltage >= 0.0180369 and voltage <= 2.3659396212121213)) and ((dtime >= '2004-03-02 07:40:59.642373454' and dtime <= '2004-03-02 23:59:59.543254')) \n",
      "\n"
     ]
    }
   ],
   "source": [
    "for p in p1:\n",
    "    print(p, '\\n')"
   ]
  },
  {
   "cell_type": "code",
   "execution_count": 30,
   "metadata": {},
   "outputs": [
    {
     "data": {
      "text/plain": [
       "<matplotlib.patches.Rectangle at 0x1046a1710>"
      ]
     },
     "execution_count": 30,
     "metadata": {},
     "output_type": "execute_result"
    },
    {
     "data": {
      "image/png": "[encoded data removed]",
      "text/plain": [
       "<Figure size 432x288 with 1 Axes>"
      ]
     },
     "metadata": {
      "needs_background": "light"
     },
     "output_type": "display_data"
    }
   ],
   "source": [
    "fig, ax = plt.subplots()\n",
    "ax.plot(data.temperature, distances, 'bo')\n",
    "rect = plt.Rectangle((-50, 15), 20, 10, fill=False, facecolor='none', linestyle='--')\n",
    "ax.add_patch(rect)"
   ]
  },
  {
   "cell_type": "code",
   "execution_count": 31,
   "metadata": {},
   "outputs": [
    {
     "name": "stdout",
     "output_type": "stream",
     "text": [
      "iter: 0\n",
      "merging\n",
      "voltage in [75]: -6.273045228284527 voltage in [75, 76]: -9.480137352135657\n",
      "\n",
      "merged:\n",
      "humidity in [95] 519.5675576667295\n",
      "temperature in [0] 255.98892951507787\n",
      "voltage in [75] -6.273045228284527\n",
      "voltage in [76] -9.437970932070472\n",
      "light in [47] -9.957624826597351\n",
      "dtime in [14] -10.234244836162459\n",
      "light in [33] -10.388409527606123\n",
      "light in [30] -10.560222274620743\n",
      "dtime in [15] -11.826060813386539\n",
      "moteid in [20] -15.044811772085122\n",
      "\n",
      "intersected:\n",
      "voltage in [76] and moteid in [20] 236.04941715770315\n",
      "voltage in [75] and dtime in [15] 205.49295307241846\n",
      "voltage in [75] and moteid in [20] 205.49295307241846\n",
      "voltage in [76] and dtime in [14] 205.49295307241846\n",
      "voltage in [76] and dtime in [15] 205.49295307241846\n",
      "voltage in [76] and light in [47] 83.56691684576565\n",
      "voltage in [75] and light in [30] 65.77924348379324\n",
      "voltage in [76] and light in [33] 20.1882984914147\n",
      "light in [33] and moteid in [20] 6.175022524182486\n",
      "light in [30] and moteid in [20] 5.923110391915271\n",
      "dtime in [15] and moteid in [20] 4.0098087874578505\n",
      "light in [47] and dtime in [14] 1.8602683662488033\n",
      "light in [47] and moteid in [20] -0.14854100572824622\n",
      "dtime in [14] and moteid in [20] -0.18844105192100355\n",
      "light in [33] and dtime in [15] -1.4181990478865325\n",
      "voltage in [75] and light in [47] -2.5443371645625334\n",
      "voltage in [75] and light in [33] -2.812096277121385\n",
      "voltage in [76] and light in [30] -3.0433644663850488\n",
      "light in [30] and dtime in [15] -3.087576945148717\n",
      "dtime in [14] and light in [33] -4.831902085603193\n",
      "light in [47] and dtime in [15] -4.87805458241935\n",
      "dtime in [14] and light in [30] -5.861152318847821\n",
      "\n",
      "iter: 1\n",
      "merging\n",
      "voltage in [76] and moteid in [20]: 236.04941715770315 voltage in [75, 76] and moteid in [20]: 255.98892951507787\n",
      "voltage in [75] and dtime in [15]: 205.49295307241846 voltage in [75, 76] and dtime in [14, 15]: 255.98892951507787\n",
      "voltage in [75, 76] and dtime in [14, 15]: 255.98892951507787 voltage in [75, 76] and dtime in [14, 15]: 255.98892951507787\n",
      "voltage in [76] and light in [47]: 83.56691684576565 voltage in [75, 76] and light in [30, 47]: 41.54324318752519\n",
      "voltage in [76] and light in [47]: 83.56691684576565 voltage in [76] and light in [33, 47]: 38.14673354824578\n",
      "voltage in [75] and light in [30]: 65.77924348379324 voltage in [75, 76] and light in [30, 33]: 23.206138843770468\n",
      "\n",
      "merged:\n",
      "voltage in [75, 76] and moteid in [20] 255.98892951507787\n",
      "voltage in [75, 76] and dtime in [14, 15] 255.98892951507787\n",
      "voltage in [76] and light in [47] 83.56691684576565\n",
      "voltage in [75] and light in [30] 65.77924348379324\n",
      "voltage in [76] and light in [33] 20.1882984914147\n",
      "light in [33] and moteid in [20] 6.175022524182486\n",
      "light in [30] and moteid in [20] 5.923110391915271\n",
      "dtime in [15] and moteid in [20] 4.0098087874578505\n",
      "light in [47] and dtime in [14] 1.8602683662488033\n",
      "\n",
      "intersected:\n",
      "voltage in [76] and light in [33, 47] and moteid in [20] 236.04941715770315\n",
      "voltage in [76] and light in [30, 47] and moteid in [20] 205.49295307241846\n",
      "voltage in [76] and light in [47] and dtime in [14] 205.49295307241846\n",
      "voltage in [75] and light in [30, 33] and moteid in [20] 205.49295307241846\n",
      "voltage in [75] and light in [30] and moteid in [20] 205.49295307241846\n",
      "voltage in [75] and light in [30] and dtime in [15] and moteid in [20] 205.49295307241846\n",
      "voltage in [76] and light in [33] and moteid in [20] 205.49295307241846\n",
      "voltage in [76] and light in [30, 33] and moteid in [20] 205.49295307241846\n",
      "voltage in [76] and light in [33] and dtime in [15] and moteid in [20] 205.49295307241846\n",
      "voltage in [76] and light in [33, 47] and dtime in [14] 205.49295307241846\n",
      "light in [33] and moteid in [20] and dtime in [15] 35.67662374251568\n",
      "light in [33, 47] and moteid in [20] and dtime in [14] 29.455245005703667\n",
      "light in [30, 47] and moteid in [20] and dtime in [14] 29.455245005703667\n",
      "dtime in [14, 15] and moteid in [20] and light in [47] 29.455245005703667\n",
      "light in [30] and moteid in [20] and dtime in [15] 17.10303987586815\n",
      "light in [30, 33] and moteid in [20] 6.9436423600616\n",
      "\n"
     ]
    }
   ],
   "source": [
    "index2 = list(data[data.temperature < -20].index)\n",
    "p2 = predicate_induction.find_predicates(targets=['temperature'], c=.8, quantile=.25, index=index2, maxiters=2,\n",
    "                                         topn=5)"
   ]
  },
  {
   "cell_type": "code",
   "execution_count": 32,
   "metadata": {},
   "outputs": [
    {
     "name": "stdout",
     "output_type": "stream",
     "text": [
      "((humidity >= -21.299818181818182 and humidity <= -2.0027636363636248)) \n",
      "\n",
      "((voltage >= 0.0180369 and voltage <= 2.4611248666666667)) and moteid in [20] \n",
      "\n",
      "((voltage >= 0.0180369 and voltage <= 2.4611248666666667)) and ((dtime >= '2004-02-28 14:25:00.038851272' and dtime <= '2004-02-28 16:20:10.615425454')) \n",
      "\n",
      "((temperature >= -38.4 and temperature <= -36.778252525252526)) \n",
      "\n",
      "((voltage >= 2.429396451515151 and voltage <= 2.4611248666666667)) and ((light >= 877.029494949495 and light <= 895.6896969696969)) \n",
      "\n"
     ]
    }
   ],
   "source": [
    "for p in p2:\n",
    "    print(p, '\\n')"
   ]
  }
 ],
 "metadata": {
  "kernelspec": {
   "display_name": "Python [conda env:forecasting]",
   "language": "python",
   "name": "conda-env-forecasting-py"
  },
  "language_info": {
   "codemirror_mode": {
    "name": "ipython",
    "version": 3
   },
   "file_extension": ".py",
   "mimetype": "text/x-python",
   "name": "python",
   "nbconvert_exporter": "python",
   "pygments_lexer": "ipython3",
   "version": "3.7.0"
  }
 },
 "nbformat": 4,
 "nbformat_minor": 2
}

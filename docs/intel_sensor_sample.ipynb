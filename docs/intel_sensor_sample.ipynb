{
 "cells": [
  {
   "cell_type": "code",
   "execution_count": 1,
   "metadata": {},
   "outputs": [],
   "source": [
    "import pandas as pd\n",
    "import matplotlib.pyplot as plt\n",
    "\n",
    "from context import predicate_induction\n",
    "from predicate_induction import PredicateInduction"
   ]
  },
  {
   "cell_type": "markdown",
   "metadata": {},
   "source": [
    "The Intel Sensor Dataset is a set of sensor measurements collected from 54 sensors deployed in the Intel Berkeley Research lab between February 28th and April 5th, 2004. Each sensor is assigned an ID (moteid) and collects temperature, humidity, light, and voltage. Additionally, each measurement comes with a timestamp."
   ]
  },
  {
   "cell_type": "markdown",
   "metadata": {},
   "source": [
    "The data used in the following example is a sample of ~5000 points from the intel sensor dataset:"
   ]
  },
  {
   "cell_type": "code",
   "execution_count": 2,
   "metadata": {},
   "outputs": [],
   "source": [
    "data = pd.read_csv('intel_sensor_sample.csv')\n",
    "data.dtime = pd.to_datetime(data.dtime)"
   ]
  },
  {
   "cell_type": "code",
   "execution_count": 3,
   "metadata": {},
   "outputs": [
    {
     "data": {
      "text/html": [
       "<div>\n",
       "<style scoped>\n",
       "    .dataframe tbody tr th:only-of-type {\n",
       "        vertical-align: middle;\n",
       "    }\n",
       "\n",
       "    .dataframe tbody tr th {\n",
       "        vertical-align: top;\n",
       "    }\n",
       "\n",
       "    .dataframe thead th {\n",
       "        text-align: right;\n",
       "    }\n",
       "</style>\n",
       "<table border=\"1\" class=\"dataframe\">\n",
       "  <thead>\n",
       "    <tr style=\"text-align: right;\">\n",
       "      <th></th>\n",
       "      <th>moteid</th>\n",
       "      <th>temperature</th>\n",
       "      <th>humidity</th>\n",
       "      <th>light</th>\n",
       "      <th>voltage</th>\n",
       "      <th>dtime</th>\n",
       "    </tr>\n",
       "  </thead>\n",
       "  <tbody>\n",
       "    <tr>\n",
       "      <th>0</th>\n",
       "      <td>9.0</td>\n",
       "      <td>23.2322</td>\n",
       "      <td>33.3857</td>\n",
       "      <td>1847.36</td>\n",
       "      <td>2.74963</td>\n",
       "      <td>2004-03-02 10:30:23.435732</td>\n",
       "    </tr>\n",
       "    <tr>\n",
       "      <th>1</th>\n",
       "      <td>22.0</td>\n",
       "      <td>17.1072</td>\n",
       "      <td>46.2953</td>\n",
       "      <td>71.76</td>\n",
       "      <td>2.58226</td>\n",
       "      <td>2004-03-01 03:18:51.364989</td>\n",
       "    </tr>\n",
       "    <tr>\n",
       "      <th>2</th>\n",
       "      <td>11.0</td>\n",
       "      <td>19.5278</td>\n",
       "      <td>41.6461</td>\n",
       "      <td>3.68</td>\n",
       "      <td>2.56000</td>\n",
       "      <td>2004-02-28 19:13:21.006994</td>\n",
       "    </tr>\n",
       "    <tr>\n",
       "      <th>3</th>\n",
       "      <td>41.0</td>\n",
       "      <td>18.8418</td>\n",
       "      <td>40.6355</td>\n",
       "      <td>45.08</td>\n",
       "      <td>2.66332</td>\n",
       "      <td>2004-02-28 22:33:19.800370</td>\n",
       "    </tr>\n",
       "    <tr>\n",
       "      <th>4</th>\n",
       "      <td>22.0</td>\n",
       "      <td>18.4890</td>\n",
       "      <td>40.5004</td>\n",
       "      <td>0.46</td>\n",
       "      <td>2.60491</td>\n",
       "      <td>2004-02-28 23:45:19.916329</td>\n",
       "    </tr>\n",
       "  </tbody>\n",
       "</table>\n",
       "</div>"
      ],
      "text/plain": [
       "   moteid  temperature  humidity    light  voltage                      dtime\n",
       "0     9.0      23.2322   33.3857  1847.36  2.74963 2004-03-02 10:30:23.435732\n",
       "1    22.0      17.1072   46.2953    71.76  2.58226 2004-03-01 03:18:51.364989\n",
       "2    11.0      19.5278   41.6461     3.68  2.56000 2004-02-28 19:13:21.006994\n",
       "3    41.0      18.8418   40.6355    45.08  2.66332 2004-02-28 22:33:19.800370\n",
       "4    22.0      18.4890   40.5004     0.46  2.60491 2004-02-28 23:45:19.916329"
      ]
     },
     "execution_count": 3,
     "metadata": {},
     "output_type": "execute_result"
    }
   ],
   "source": [
    "data.head()"
   ]
  },
  {
   "cell_type": "markdown",
   "metadata": {},
   "source": [
    "Following [Wu et al.](https://dspace.mit.edu/handle/1721.1/89076), we consider a scenario where an analyst is interested in locating anomalies in temperature. When initializing the PredicateInduction class a dataframe is passed along with the following:\n",
    "\n",
    "1) model: The anomaly detection algorithm to be used (defaults to the robust covariance model)\n",
    "\n",
    "2) targets: A list of \"target features\" where we are looking for anomalies (defaults to all features)\n",
    "\n",
    "3) specificity: Parameter between 0 and 1. Predicates will cover smaller slices of data the closer this is to 1"
   ]
  },
  {
   "cell_type": "code",
   "execution_count": 4,
   "metadata": {},
   "outputs": [],
   "source": [
    "pi = PredicateInduction(data, model='robust_cov', targets=['temperature'], specificity=.9)"
   ]
  },
  {
   "cell_type": "markdown",
   "metadata": {},
   "source": [
    "The ```search_all``` method returns a single predicate consisting of a set of a disjunction of conjunctions. Each conjunction represents an \"explanation\"."
   ]
  },
  {
   "cell_type": "code",
   "execution_count": 5,
   "metadata": {},
   "outputs": [],
   "source": [
    "predicate = pi.search_all()"
   ]
  },
  {
   "cell_type": "markdown",
   "metadata": {},
   "source": [
    "Conjunctions can be accessed using ```predicate.base_predicates```. Each explanation can be visualized:"
   ]
  },
  {
   "cell_type": "code",
   "execution_count": 6,
   "metadata": {
    "scrolled": false
   },
   "outputs": [
    {
     "name": "stdout",
     "output_type": "stream",
     "text": [
      "1) (temperature > 120.547 and temperature <= 122.153)\n"
     ]
    },
    {
     "data": {
      "image/png": "[encoded data removed]",
      "text/plain": [
       "<Figure size 432x360 with 1 Axes>"
      ]
     },
     "metadata": {
      "needs_background": "light"
     },
     "output_type": "display_data"
    },
    {
     "name": "stdout",
     "output_type": "stream",
     "text": [
      "2) (voltage > 2.275 and voltage <= 2.354)\n"
     ]
    },
    {
     "data": {
      "image/png": "[encoded data removed]",
      "text/plain": [
       "<Figure size 432x360 with 1 Axes>"
      ]
     },
     "metadata": {
      "needs_background": "light"
     },
     "output_type": "display_data"
    },
    {
     "name": "stdout",
     "output_type": "stream",
     "text": [
      "3) moteid in [15.0] and dtime > '2004-03-02 06:53:15.495036032' and dtime <= '2004-03-02 08:47:13.275416064'\n"
     ]
    },
    {
     "data": {
      "image/png": "[encoded data removed]",
      "text/plain": [
       "<Figure size 864x360 with 2 Axes>"
      ]
     },
     "metadata": {
      "needs_background": "light"
     },
     "output_type": "display_data"
    }
   ],
   "source": [
    "for i in range(len(predicate.base_predicates)):\n",
    "    p = predicate.base_predicates[i]\n",
    "    print(f'{i+1})', p)\n",
    "    d = pi.get_data(p)\n",
    "    features = p.features\n",
    "    n = len(features)\n",
    "    fig, axes = plt.subplots(ncols=n, figsize=(6*n, 5))\n",
    "    if n == 1:\n",
    "        axes = [axes]\n",
    "    for j in range(len(features)):\n",
    "        feature = features[j]\n",
    "        cols = d[feature].columns\n",
    "        if pi.dtypes[feature] == 'date':\n",
    "            d[feature][d[feature].anomaly==0].set_index(cols[0])[cols[1]].plot(ax=axes[j], color='blue')\n",
    "            d[feature][d[feature].anomaly==1].set_index(cols[0])[cols[1]].plot(ax=axes[j], color='red')\n",
    "            axes[j].set_ylabel(cols[1])\n",
    "            axes[j].legend(['normal', 'anomaly'])\n",
    "        else:\n",
    "            d[feature][d[feature].anomaly==0].plot.scatter(x=cols[0], y=cols[1], ax=axes[j], color='blue')\n",
    "            d[feature][d[feature].anomaly==1].plot.scatter(x=cols[0], y=cols[1], ax=axes[j], color='red')\n",
    "            axes[j].set_ylabel(cols[1])\n",
    "            axes[j].legend(['normal', 'anomaly'])\n",
    "    plt.show()"
   ]
  },
  {
   "cell_type": "markdown",
   "metadata": {},
   "source": [
    "In addition to the robust covariance model, [isolation forest](https://en.wikipedia.org/wiki/Isolation_forest) and [local outlier factor](https://en.wikipedia.org/wiki/Local_outlier_factor) algorithms are also available:"
   ]
  },
  {
   "cell_type": "code",
   "execution_count": 7,
   "metadata": {},
   "outputs": [],
   "source": [
    "pi_iso = PredicateInduction(data, model='iso_forest', targets=['temperature'], specificity=.9)\n",
    "predicate_iso = pi_iso.search_all()"
   ]
  },
  {
   "cell_type": "code",
   "execution_count": 8,
   "metadata": {},
   "outputs": [
    {
     "name": "stdout",
     "output_type": "stream",
     "text": [
      "(temperature > 120.547 and temperature <= 122.153) or (voltage > 2.275 and voltage <= 2.354) or moteid in [15.0] and dtime > '2004-03-02T07:50:14.385226112' and dtime <= '2004-03-02T08:47:13.275416064'\n"
     ]
    }
   ],
   "source": [
    "print(predicate_iso)"
   ]
  },
  {
   "cell_type": "code",
   "execution_count": 9,
   "metadata": {},
   "outputs": [],
   "source": [
    "pi_lof = PredicateInduction(data, model='lof', targets=['temperature'], specificity=.9)\n",
    "predicate_lof = pi_lof.search_all()"
   ]
  },
  {
   "cell_type": "code",
   "execution_count": 10,
   "metadata": {},
   "outputs": [
    {
     "name": "stdout",
     "output_type": "stream",
     "text": [
      "moteid in [51.0] and (humidity > 26.557 and humidity <= 27.145) or moteid in [33.0] and (light > 166.281 and light <= 184.754) or moteid in [33.0] and dtime > '2004-03-01T09:59:39.910856064' and dtime <= '2004-03-01T10:56:38.801046016' or moteid in [51.0] and dtime > '2004-03-02T19:14:01.067506048' and dtime <= '2004-03-02T20:10:59.957696000' or (humidity > 37.135 and humidity <= 37.722) and (voltage > 2.579 and voltage <= 2.588) or (humidity > 37.135 and humidity <= 37.722) and dtime > '2004-03-02T08:47:13.275416064' and dtime <= '2004-03-02T09:44:12.165606016' or (light > 443.382 and light <= 461.855) and dtime > '2004-02-29T11:12:06.546296064' and dtime <= '2004-02-29T12:09:05.436486016' or (light > 240.174 and light <= 258.648) and dtime > '2004-03-02T21:07:58.847886080' and dtime <= '2004-03-02T22:04:57.738076032' or (voltage > 2.579 and voltage <= 2.588) and dtime > '2004-03-01T07:08:43.240286080' and dtime <= '2004-03-01T08:05:42.130476032'\n"
     ]
    }
   ],
   "source": [
    "print(predicate_lof)"
   ]
  }
 ],
 "metadata": {
  "kernelspec": {
   "display_name": "Python 3",
   "language": "python",
   "name": "python3"
  },
  "language_info": {
   "codemirror_mode": {
    "name": "ipython",
    "version": 3
   },
   "file_extension": ".py",
   "mimetype": "text/x-python",
   "name": "python",
   "nbconvert_exporter": "python",
   "pygments_lexer": "ipython3",
   "version": "3.7.7"
  }
 },
 "nbformat": 4,
 "nbformat_minor": 2
}

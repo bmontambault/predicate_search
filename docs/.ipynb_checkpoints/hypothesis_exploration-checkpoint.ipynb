{
 "cells": [
  {
   "cell_type": "code",
   "execution_count": 1,
   "metadata": {},
   "outputs": [],
   "source": [
    "import numpy as np\n",
    "import pandas as pd\n",
    "import matplotlib.pyplot as plt\n",
    "import seaborn as sns\n",
    "\n",
    "from context import predicate_search\n",
    "from predicate_search import GaussianData, Predicate, ActiveSearch, BLR\n",
    "\n",
    "import warnings\n",
    "warnings.simplefilter(action='ignore', category=FutureWarning)"
   ]
  },
  {
   "cell_type": "markdown",
   "metadata": {},
   "source": [
    "When one encounters an unusual event, whether that event should be considered evidence for an alternative theory versus a mere coincidence can be understood by looking at the posterior odds of the new hypothesis, $h_{1}$, over the existing hypothesis, $h_{0}$"
   ]
  },
  {
   "cell_type": "markdown",
   "metadata": {},
   "source": [
    "$$ \\frac{p(h_{1}|d)}{p(h_{0}|d)} = \\frac{p(d|h_{1})}{p(d|h_{0})}\\frac{p(h_{1})}{p(h_{0})}$$"
   ]
  },
  {
   "cell_type": "markdown",
   "metadata": {},
   "source": [
    "where $p(d|h)$ is the likelihood of a hypothesis given the observed data and $p(h)$ is the prior plausibility of the hypothesis."
   ]
  },
  {
   "cell_type": "markdown",
   "metadata": {},
   "source": [
    "However, in many cases people do not passively recieve hypotheses to tests. Rather, many situations require people, given the knowledge that some alternative hypothesis might exist, to actively seek out the most likely alternative hypothesis."
   ]
  },
  {
   "cell_type": "markdown",
   "metadata": {},
   "source": [
    "For example, imagine a person has observed some data with the initial expectation that a certain value in that data will be normally distributed with a mean of 0 and a variance of 1:"
   ]
  },
  {
   "cell_type": "code",
   "execution_count": 2,
   "metadata": {},
   "outputs": [],
   "source": [
    "data = pd.read_csv('gaussian_data.csv')"
   ]
  },
  {
   "cell_type": "code",
   "execution_count": 3,
   "metadata": {},
   "outputs": [
    {
     "data": {
      "text/html": [
       "<div>\n",
       "<style scoped>\n",
       "    .dataframe tbody tr th:only-of-type {\n",
       "        vertical-align: middle;\n",
       "    }\n",
       "\n",
       "    .dataframe tbody tr th {\n",
       "        vertical-align: top;\n",
       "    }\n",
       "\n",
       "    .dataframe thead th {\n",
       "        text-align: right;\n",
       "    }\n",
       "</style>\n",
       "<table border=\"1\" class=\"dataframe\">\n",
       "  <thead>\n",
       "    <tr style=\"text-align: right;\">\n",
       "      <th></th>\n",
       "      <th>val</th>\n",
       "      <th>f0</th>\n",
       "      <th>f1</th>\n",
       "      <th>f2</th>\n",
       "    </tr>\n",
       "  </thead>\n",
       "  <tbody>\n",
       "    <tr>\n",
       "      <th>0</th>\n",
       "      <td>-1.187717</td>\n",
       "      <td>0.0</td>\n",
       "      <td>0.0</td>\n",
       "      <td>0.0</td>\n",
       "    </tr>\n",
       "    <tr>\n",
       "      <th>1</th>\n",
       "      <td>0.495934</td>\n",
       "      <td>1.0</td>\n",
       "      <td>4.0</td>\n",
       "      <td>0.0</td>\n",
       "    </tr>\n",
       "    <tr>\n",
       "      <th>2</th>\n",
       "      <td>-0.821469</td>\n",
       "      <td>2.0</td>\n",
       "      <td>3.0</td>\n",
       "      <td>3.0</td>\n",
       "    </tr>\n",
       "    <tr>\n",
       "      <th>3</th>\n",
       "      <td>-0.122543</td>\n",
       "      <td>0.0</td>\n",
       "      <td>4.0</td>\n",
       "      <td>5.0</td>\n",
       "    </tr>\n",
       "    <tr>\n",
       "      <th>4</th>\n",
       "      <td>-1.061065</td>\n",
       "      <td>1.0</td>\n",
       "      <td>3.0</td>\n",
       "      <td>0.0</td>\n",
       "    </tr>\n",
       "  </tbody>\n",
       "</table>\n",
       "</div>"
      ],
      "text/plain": [
       "        val   f0   f1   f2\n",
       "0 -1.187717  0.0  0.0  0.0\n",
       "1  0.495934  1.0  4.0  0.0\n",
       "2 -0.821469  2.0  3.0  3.0\n",
       "3 -0.122543  0.0  4.0  5.0\n",
       "4 -1.061065  1.0  3.0  0.0"
      ]
     },
     "execution_count": 3,
     "metadata": {},
     "output_type": "execute_result"
    }
   ],
   "source": [
    "data.head()"
   ]
  },
  {
   "cell_type": "markdown",
   "metadata": {},
   "source": [
    "but upon observing the full dataset see that this is not the case for some values:"
   ]
  },
  {
   "cell_type": "code",
   "execution_count": 4,
   "metadata": {},
   "outputs": [
    {
     "data": {
      "image/png": "[encoded data removed]",
      "text/plain": [
       "<Figure size 432x288 with 1 Axes>"
      ]
     },
     "metadata": {
      "needs_background": "light"
     },
     "output_type": "display_data"
    }
   ],
   "source": [
    "sns.distplot(data.val, rug=True, hist=False);"
   ]
  },
  {
   "cell_type": "markdown",
   "metadata": {},
   "source": [
    "Given the knowledge gleaned from a summary of the data that some alternative hypothesis exists, the goal becomes to find some combination of the features f0, f1, and f2 that constitute an alternative hypothesis."
   ]
  },
  {
   "cell_type": "markdown",
   "metadata": {},
   "source": [
    "With the view of hypotheses as some slice of the data that is suspected of being generated from a seperate process than the rest of the data, we can understand $p(h_{0}|d)$ to be the probability of the full dataset given the expected generating process. In contrast, the probability of an alternative hypothesis over a subset of the data $p(h_{1}|d)$ can be understood as the probability of the data **after removing the slice of data that is hypothesised to have been generated from an alternative process**. In other words, rather than testing all possible alternative hypotheses for a particular slice of data, we can understand the evidence for an alternative hypothesis, $\\frac{p(d|h_{1})}{p(d|h_{0})}$, as how much more likely the data are under the assumed generating process if we remove that slice."
   ]
  },
  {
   "cell_type": "markdown",
   "metadata": {},
   "source": [
    "A particular slice of data can be defined by a _predicate_ $q$ consisting of a set of feature value pairs, and $q(d)$ returns the set of tuples from $d$ where, for each feature in the predicate, the tuple's value for that feature is contained in the predicate's associated value for that feature."
   ]
  },
  {
   "cell_type": "code",
   "execution_count": 5,
   "metadata": {},
   "outputs": [],
   "source": [
    "all_features = [len(data[col].unique()) for col in data.columns[1:]]"
   ]
  },
  {
   "cell_type": "markdown",
   "metadata": {},
   "source": [
    "*ex, a predicate that returns the subset of data where feature 0 equals 1 and feature 2 is either 3 or 5*"
   ]
  },
  {
   "cell_type": "code",
   "execution_count": 6,
   "metadata": {},
   "outputs": [
    {
     "data": {
      "image/png": "[encoded data removed]",
      "text/plain": [
       "<Figure size 432x288 with 1 Axes>"
      ]
     },
     "metadata": {
      "needs_background": "light"
     },
     "output_type": "display_data"
    }
   ],
   "source": [
    "q1 = Predicate(all_features, features=[0, 2], feature_vals=[[1], [3,5]])\n",
    "sns.distplot(q1.query(data).val, rug=True, hist=False);"
   ]
  },
  {
   "cell_type": "markdown",
   "metadata": {},
   "source": [
    "*ex, a predicate that returns the subset of data where feature 1 equals 4*"
   ]
  },
  {
   "cell_type": "code",
   "execution_count": 7,
   "metadata": {},
   "outputs": [
    {
     "data": {
      "image/png": "[encoded data removed]",
      "text/plain": [
       "<Figure size 432x288 with 1 Axes>"
      ]
     },
     "metadata": {
      "needs_background": "light"
     },
     "output_type": "display_data"
    }
   ],
   "source": [
    "q2 = Predicate(all_features, features=[1], feature_vals=[[4]])\n",
    "sns.distplot(q2.query(data).val, rug=True, hist=False);"
   ]
  },
  {
   "cell_type": "markdown",
   "metadata": {},
   "source": [
    "Our objective given a set of candidate predicates is to find the one that maximizes $p(d|q)p(q)$. As argued above, the likelihood of a predicate can be thought of as the likelihood ratio of the data with the slice defined by the predicate removed over the likelihood of the full dataset, $\\frac{p(d - q(d))}{p(d)}$, where $p(d)$ is the probability of $d$ under the assumed generative process. Our prior belief about the plausibility of a predicate is dependent on two factors. First how plausible is it that $q(d)$ would be generated by an alternative process? Assuming a prior preference for less complex hypotheses, we define the prior $\\frac{1}{|q(d)|^{\\gamma}}$, where $|q(d)|$ denotes the number of tuples in $q(d)$. This encodes that if two predicates provide the same evidence for an alternative hypothesis we should choose the one that represents a smaller slice of the data."
   ]
  },
  {
   "cell_type": "markdown",
   "metadata": {},
   "source": [
    "Second, how plausible is $q$ independent of the data? We assign a prior to each feature in a predicate, and to each feature value in a predicate, then take $p(q)$ to be the product:"
   ]
  },
  {
   "cell_type": "markdown",
   "metadata": {},
   "source": [
    "$$ p(q) = \\prod_{f \\in q} \\prod_{v \\in f}p(f)p(v) $$"
   ]
  },
  {
   "cell_type": "markdown",
   "metadata": {},
   "source": [
    "Taken together, this gives us:"
   ]
  },
  {
   "cell_type": "markdown",
   "metadata": {},
   "source": [
    "$$ p(q|d) \\propto \\frac{p(d - q(d))}{p(d)} \\frac{1}{|q(d)|^{\\gamma}} \\prod_{f \\in q} \\prod_{v \\in f}p(f)p(v)$$"
   ]
  },
  {
   "cell_type": "markdown",
   "metadata": {},
   "source": [
    "## Active Search"
   ]
  },
  {
   "cell_type": "code",
   "execution_count": 24,
   "metadata": {},
   "outputs": [],
   "source": [
    "def sample_true_model():\n",
    "    # True parameters\n",
    "    a = np.array([-0.3, 0.5]).T\n",
    "    x = np.array([[1, 2*np.random.random() - 1]]).T\n",
    "    t = a.T @ x + np.random.normal(0, 0.2)\n",
    "    return x.T, t"
   ]
  },
  {
   "cell_type": "code",
   "execution_count": 25,
   "metadata": {},
   "outputs": [],
   "source": [
    "blr = BLR(1)"
   ]
  },
  {
   "cell_type": "code",
   "execution_count": 31,
   "metadata": {},
   "outputs": [
    {
     "data": {
      "text/plain": [
       "array([[0., 0., 0., 0., 0., 0., 0., 0., 0., 0., 0., 0., 0., 0., 0., 0.,\n",
       "        0., 0., 0., 0., 0., 0., 0., 0., 0., 0., 0., 0., 0., 0., 0., 0.,\n",
       "        0., 0., 0., 0., 0., 0., 0., 0., 0., 0., 0., 0., 0., 0., 0., 0.,\n",
       "        0., 0.]])"
      ]
     },
     "execution_count": 31,
     "metadata": {},
     "output_type": "execute_result"
    }
   ],
   "source": [
    "np.dot(blr.m_0, X)"
   ]
  },
  {
   "cell_type": "code",
   "execution_count": 28,
   "metadata": {},
   "outputs": [
    {
     "ename": "ValueError",
     "evalue": "shapes (2,50) and (2,2) not aligned: 50 (dim 1) != 2 (dim 0)",
     "output_type": "error",
     "traceback": [
      "\u001b[0;31m---------------------------------------------------------------------------\u001b[0m",
      "\u001b[0;31mValueError\u001b[0m                                Traceback (most recent call last)",
      "\u001b[0;32m<ipython-input-28-74a18e2be0a2>\u001b[0m in \u001b[0;36m<module>\u001b[0;34m()\u001b[0m\n\u001b[1;32m      2\u001b[0m \u001b[0mX\u001b[0m \u001b[0;34m=\u001b[0m \u001b[0mnp\u001b[0m\u001b[0;34m.\u001b[0m\u001b[0mhstack\u001b[0m\u001b[0;34m(\u001b[0m\u001b[0;34m(\u001b[0m\u001b[0mnp\u001b[0m\u001b[0;34m.\u001b[0m\u001b[0mones\u001b[0m\u001b[0;34m(\u001b[0m\u001b[0mX\u001b[0m\u001b[0;34m.\u001b[0m\u001b[0mshape\u001b[0m\u001b[0;34m[\u001b[0m\u001b[0;36m0\u001b[0m\u001b[0;34m]\u001b[0m\u001b[0;34m)\u001b[0m\u001b[0;34m[\u001b[0m\u001b[0;34m:\u001b[0m\u001b[0;34m,\u001b[0m\u001b[0;32mNone\u001b[0m\u001b[0;34m]\u001b[0m\u001b[0;34m,\u001b[0m \u001b[0mX\u001b[0m\u001b[0;34m)\u001b[0m\u001b[0;34m)\u001b[0m\u001b[0;34m\u001b[0m\u001b[0m\n\u001b[1;32m      3\u001b[0m \u001b[0;32mfor\u001b[0m \u001b[0mi\u001b[0m \u001b[0;32min\u001b[0m \u001b[0mrange\u001b[0m\u001b[0;34m(\u001b[0m\u001b[0;36m5\u001b[0m\u001b[0;34m)\u001b[0m\u001b[0;34m:\u001b[0m\u001b[0;34m\u001b[0m\u001b[0m\n\u001b[0;32m----> 4\u001b[0;31m     \u001b[0mpredy\u001b[0m \u001b[0;34m=\u001b[0m \u001b[0mblr\u001b[0m\u001b[0;34m.\u001b[0m\u001b[0mpredict\u001b[0m\u001b[0;34m(\u001b[0m\u001b[0mX\u001b[0m\u001b[0;34m.\u001b[0m\u001b[0mT\u001b[0m\u001b[0;34m)\u001b[0m\u001b[0;34m\u001b[0m\u001b[0m\n\u001b[0m\u001b[1;32m      5\u001b[0m     \u001b[0mx\u001b[0m\u001b[0;34m,\u001b[0m \u001b[0mt\u001b[0m \u001b[0;34m=\u001b[0m \u001b[0msample_true_model\u001b[0m\u001b[0;34m(\u001b[0m\u001b[0;34m)\u001b[0m\u001b[0;34m\u001b[0m\u001b[0m\n",
      "\u001b[0;32m~/Desktop/repositories/predicate_search/predicate_search/active_search_models.py\u001b[0m in \u001b[0;36mpredict\u001b[0;34m(self, X)\u001b[0m\n\u001b[1;32m     19\u001b[0m     \u001b[0;32mdef\u001b[0m \u001b[0mpredict\u001b[0m\u001b[0;34m(\u001b[0m\u001b[0mself\u001b[0m\u001b[0;34m,\u001b[0m \u001b[0mX\u001b[0m\u001b[0;34m)\u001b[0m\u001b[0;34m:\u001b[0m\u001b[0;34m\u001b[0m\u001b[0m\n\u001b[1;32m     20\u001b[0m         \u001b[0mpred_mean\u001b[0m \u001b[0;34m=\u001b[0m \u001b[0mself\u001b[0m\u001b[0;34m.\u001b[0m\u001b[0mm_0\u001b[0m \u001b[0;34m@\u001b[0m \u001b[0mX\u001b[0m\u001b[0;34m\u001b[0m\u001b[0m\n\u001b[0;32m---> 21\u001b[0;31m         \u001b[0mpred_var\u001b[0m \u001b[0;34m=\u001b[0m \u001b[0mnp\u001b[0m\u001b[0;34m.\u001b[0m\u001b[0msum\u001b[0m\u001b[0;34m(\u001b[0m\u001b[0;36m1.\u001b[0m \u001b[0;34m/\u001b[0m \u001b[0mself\u001b[0m\u001b[0;34m.\u001b[0m\u001b[0mbeta\u001b[0m \u001b[0;34m+\u001b[0m \u001b[0mX\u001b[0m \u001b[0;34m@\u001b[0m \u001b[0mself\u001b[0m\u001b[0;34m.\u001b[0m\u001b[0mS_0\u001b[0m \u001b[0;34m*\u001b[0m \u001b[0mX\u001b[0m\u001b[0;34m,\u001b[0m \u001b[0maxis\u001b[0m\u001b[0;34m=\u001b[0m\u001b[0;36m1\u001b[0m\u001b[0;34m)\u001b[0m\u001b[0;34m\u001b[0m\u001b[0m\n\u001b[0m\u001b[1;32m     22\u001b[0m         \u001b[0;32mreturn\u001b[0m \u001b[0mpred_mean\u001b[0m\u001b[0;34m,\u001b[0m \u001b[0mpred_var\u001b[0m\u001b[0;34m\u001b[0m\u001b[0m\n",
      "\u001b[0;31mValueError\u001b[0m: shapes (2,50) and (2,2) not aligned: 50 (dim 1) != 2 (dim 0)"
     ]
    }
   ],
   "source": [
    "X = np.linspace(-5, 5)[:,None]\n",
    "X = np.hstack((np.ones(X.shape[0])[:,None], X))\n",
    "for i in range(5):\n",
    "    predy = blr.predict(X)\n",
    "    x, t = sample_true_model()"
   ]
  },
  {
   "cell_type": "code",
   "execution_count": 27,
   "metadata": {},
   "outputs": [
    {
     "data": {
      "text/plain": [
       "array([[ 1.        , -5.        ],\n",
       "       [ 1.        , -4.79591837],\n",
       "       [ 1.        , -4.59183673],\n",
       "       [ 1.        , -4.3877551 ],\n",
       "       [ 1.        , -4.18367347],\n",
       "       [ 1.        , -3.97959184],\n",
       "       [ 1.        , -3.7755102 ],\n",
       "       [ 1.        , -3.57142857],\n",
       "       [ 1.        , -3.36734694],\n",
       "       [ 1.        , -3.16326531],\n",
       "       [ 1.        , -2.95918367],\n",
       "       [ 1.        , -2.75510204],\n",
       "       [ 1.        , -2.55102041],\n",
       "       [ 1.        , -2.34693878],\n",
       "       [ 1.        , -2.14285714],\n",
       "       [ 1.        , -1.93877551],\n",
       "       [ 1.        , -1.73469388],\n",
       "       [ 1.        , -1.53061224],\n",
       "       [ 1.        , -1.32653061],\n",
       "       [ 1.        , -1.12244898],\n",
       "       [ 1.        , -0.91836735],\n",
       "       [ 1.        , -0.71428571],\n",
       "       [ 1.        , -0.51020408],\n",
       "       [ 1.        , -0.30612245],\n",
       "       [ 1.        , -0.10204082],\n",
       "       [ 1.        ,  0.10204082],\n",
       "       [ 1.        ,  0.30612245],\n",
       "       [ 1.        ,  0.51020408],\n",
       "       [ 1.        ,  0.71428571],\n",
       "       [ 1.        ,  0.91836735],\n",
       "       [ 1.        ,  1.12244898],\n",
       "       [ 1.        ,  1.32653061],\n",
       "       [ 1.        ,  1.53061224],\n",
       "       [ 1.        ,  1.73469388],\n",
       "       [ 1.        ,  1.93877551],\n",
       "       [ 1.        ,  2.14285714],\n",
       "       [ 1.        ,  2.34693878],\n",
       "       [ 1.        ,  2.55102041],\n",
       "       [ 1.        ,  2.75510204],\n",
       "       [ 1.        ,  2.95918367],\n",
       "       [ 1.        ,  3.16326531],\n",
       "       [ 1.        ,  3.36734694],\n",
       "       [ 1.        ,  3.57142857],\n",
       "       [ 1.        ,  3.7755102 ],\n",
       "       [ 1.        ,  3.97959184],\n",
       "       [ 1.        ,  4.18367347],\n",
       "       [ 1.        ,  4.3877551 ],\n",
       "       [ 1.        ,  4.59183673],\n",
       "       [ 1.        ,  4.79591837],\n",
       "       [ 1.        ,  5.        ]])"
      ]
     },
     "execution_count": 27,
     "metadata": {},
     "output_type": "execute_result"
    }
   ],
   "source": [
    "X"
   ]
  },
  {
   "cell_type": "code",
   "execution_count": 10,
   "metadata": {},
   "outputs": [
    {
     "ename": "NameError",
     "evalue": "name 'x' is not defined",
     "output_type": "error",
     "traceback": [
      "\u001b[0;31m---------------------------------------------------------------------------\u001b[0m",
      "\u001b[0;31mNameError\u001b[0m                                 Traceback (most recent call last)",
      "\u001b[0;32m<ipython-input-10-7c754f48ee23>\u001b[0m in \u001b[0;36m<module>\u001b[0;34m()\u001b[0m\n\u001b[0;32m----> 1\u001b[0;31m \u001b[0mblr\u001b[0m\u001b[0;34m.\u001b[0m\u001b[0mpredict\u001b[0m\u001b[0;34m(\u001b[0m\u001b[0mx\u001b[0m\u001b[0;34m)\u001b[0m\u001b[0;34m\u001b[0m\u001b[0m\n\u001b[0m",
      "\u001b[0;31mNameError\u001b[0m: name 'x' is not defined"
     ]
    }
   ],
   "source": [
    "blr.predict(x)"
   ]
  },
  {
   "cell_type": "code",
   "execution_count": null,
   "metadata": {},
   "outputs": [],
   "source": [
    "blr.update(x1, t1)"
   ]
  },
  {
   "cell_type": "code",
   "execution_count": null,
   "metadata": {},
   "outputs": [],
   "source": [
    "blr.predict(x)"
   ]
  },
  {
   "cell_type": "code",
   "execution_count": null,
   "metadata": {},
   "outputs": [],
   "source": [
    "gaussian_data = GaussianData(0, 1, all_features) #data is expected to be gaussian with mean 0 and variance 1\n",
    "active_search = ActiveSearch(data, gaussian_data)"
   ]
  },
  {
   "cell_type": "code",
   "execution_count": null,
   "metadata": {},
   "outputs": [],
   "source": []
  },
  {
   "cell_type": "code",
   "execution_count": null,
   "metadata": {},
   "outputs": [],
   "source": [
    "q1"
   ]
  },
  {
   "cell_type": "code",
   "execution_count": null,
   "metadata": {},
   "outputs": [],
   "source": [
    "active_search.prior(q1)"
   ]
  },
  {
   "cell_type": "markdown",
   "metadata": {},
   "source": [
    "The likelihood of "
   ]
  },
  {
   "cell_type": "markdown",
   "metadata": {},
   "source": [
    "$p(q|d) \\propto p(d|q)p(q(d))p(q)$"
   ]
  },
  {
   "cell_type": "markdown",
   "metadata": {},
   "source": [
    "$p(h_{1}|d)$ to be the probability of the full dataset excluding the subsection\n",
    "\n",
    "the goal becomes to find the slice (from here on **predicate**) such that $\\log \\frac{p(h_{1}|d)}{p(h_{0}|d)}$ is maximized"
   ]
  },
  {
   "cell_type": "markdown",
   "metadata": {},
   "source": [
    "$p(d) = p(d|\\mathcal{M})$"
   ]
  },
  {
   "cell_type": "markdown",
   "metadata": {},
   "source": [
    "$p(d|q) = \\frac{p(q(d))}{p(d)}$"
   ]
  },
  {
   "cell_type": "markdown",
   "metadata": {},
   "source": [
    "$p(q|\\gamma) = \\frac{1}{|q(d)|^{\\gamma}}$"
   ]
  },
  {
   "cell_type": "markdown",
   "metadata": {},
   "source": [
    "$p(q|d) = \\frac{p(q(d))}{p(d)} \\frac{1}{|q(d)|^{\\gamma}} $"
   ]
  },
  {
   "cell_type": "markdown",
   "metadata": {},
   "source": [
    "$p(\\text{\"evidence\"}|d) = \\frac{1}{1 + \\exp \\{-g \\log p(q|d)-b\\}}$"
   ]
  },
  {
   "cell_type": "markdown",
   "metadata": {},
   "source": [
    "People do not passively recieve hypotheses to tests. Rather, they go looking for the best hypothesis. The hypothesis that will be most likely constitute evidence will be the one where $\\log p(q|d)$ is maximized."
   ]
  },
  {
   "cell_type": "markdown",
   "metadata": {},
   "source": [
    "If predicates are constructed from a set of features $x$, we can generalize from one observation of $p(q_{1}|d)$ to possible future observations $p(q_{i}|d)$ as long as $q_{1}$ and $q_{i}$ have similar features. The goal then becomes to learn the mapping $f: q \\to p(q|d)$ so that future predicates can be chosen."
   ]
  },
  {
   "cell_type": "code",
   "execution_count": null,
   "metadata": {},
   "outputs": [],
   "source": []
  }
 ],
 "metadata": {
  "kernelspec": {
   "display_name": "Python 3",
   "language": "python",
   "name": "python3"
  },
  "language_info": {
   "codemirror_mode": {
    "name": "ipython",
    "version": 3
   },
   "file_extension": ".py",
   "mimetype": "text/x-python",
   "name": "python",
   "nbconvert_exporter": "python",
   "pygments_lexer": "ipython3",
   "version": "3.7.0"
  }
 },
 "nbformat": 4,
 "nbformat_minor": 2
}

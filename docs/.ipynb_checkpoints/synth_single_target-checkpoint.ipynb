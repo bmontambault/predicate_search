{
 "cells": [
  {
   "cell_type": "code",
   "execution_count": 1,
   "metadata": {},
   "outputs": [],
   "source": [
    "import numpy as np\n",
    "import pandas as pd\n",
    "import seaborn as sns\n",
    "import matplotlib.pyplot as plt\n",
    "import scipy.stats as st\n",
    "\n",
    "from sklearn.tree import DecisionTreeRegressor\n",
    "from sklearn.tree import _tree\n",
    "\n",
    "from context import predicate_search\n",
    "from predicate_search import PredicateData, PredicateSearch, TDPredicateSearch, ContBasePredicate"
   ]
  },
  {
   "cell_type": "code",
   "execution_count": 2,
   "metadata": {},
   "outputs": [],
   "source": [
    "class SynthSingleTarget:\n",
    "    \n",
    "    def __init__(self, n=2000, m=2, att_min=0, att_max=100, mu=80, med_outlier_lower=20, med_outlier_upper=80,\n",
    "                 high_outlier_lower=40, high_outlier_upper=60):\n",
    "        self.n = n\n",
    "        self.m = m\n",
    "        self.att_min = att_min\n",
    "        self.att_max = att_max\n",
    "        self.mu = mu\n",
    "        self.med_outlier_lower = med_outlier_lower\n",
    "        self.med_outlier_upper = med_outlier_upper\n",
    "        self.high_outlier_lower = high_outlier_lower\n",
    "        self.high_outlier_upper = high_outlier_upper\n",
    "        \n",
    "    def generate_attributes(self, n, m, att_min, att_max):\n",
    "        attributes = pd.DataFrame(np.random.uniform(att_min, att_max, size=(n, m)))\n",
    "        attributes.columns = [f\"f{col}\" for col in attributes.columns]\n",
    "        return attributes\n",
    "        \n",
    "    def generate_target(self, attributes, mu):\n",
    "        att = list(attributes.columns)\n",
    "        attributes['med_outlier'] = np.all(attributes[att] >= self.med_outlier_lower, axis=1\n",
    "                                          ) & np.all(attributes[att] <= self.med_outlier_upper, axis=1)\n",
    "        attributes['high_outlier'] = np.all(attributes[att] >= self.high_outlier_lower, axis=1\n",
    "                                           ) & np.all(attributes[att] <= self.high_outlier_upper, axis=1)\n",
    "        attributes['outlier_type'] = attributes.med_outlier.astype(int) + attributes.high_outlier.astype(int)\n",
    "        attributes['mu'] = attributes.outlier_type.map({0: 10, 1: (mu + 10)/2, 2: mu})\n",
    "        attributes['val'] = np.random.normal(attributes.mu, 10)\n",
    "        \n",
    "        return attributes[att + ['val']], attributes.med_outlier, attributes.high_outlier\n",
    "    \n",
    "    def generate_data(self):\n",
    "        attributes = self.generate_attributes(self.n, self.m, self.att_min, self.att_max)\n",
    "        data, med_outlier, high_outlier = self.generate_target(attributes, self.mu)\n",
    "        return data, med_outlier, high_outlier"
   ]
  },
  {
   "cell_type": "code",
   "execution_count": 75,
   "metadata": {},
   "outputs": [],
   "source": [
    "class NormAnomalyDetection:\n",
    "    \n",
    "    def __init__(self, mean, var, c=.5):\n",
    "        self.mean = mean\n",
    "        self.var = var\n",
    "        self.c = c\n",
    "        \n",
    "    def predict(self, data, c=None):\n",
    "        if c is None:\n",
    "            c = self.c\n",
    "        lower, upper = st.norm(self.mean, self.var).interval(c)\n",
    "        predy = ((data.val < lower) | (data.val > upper)).astype(int)\n",
    "        return predy"
   ]
  },
  {
   "cell_type": "code",
   "execution_count": 76,
   "metadata": {},
   "outputs": [],
   "source": [
    "class PredAnomalyDetection:\n",
    "    \n",
    "    def __init__(self, mean, var, c=.5, b=.1, quantile=.25):\n",
    "        self.mean = mean\n",
    "        self.var = var\n",
    "        self.c = c\n",
    "        self.b = b\n",
    "        self.quantile = quantile\n",
    "        \n",
    "    def search(self, data, c=None, b=None, quantile=None):\n",
    "        if c is None:\n",
    "            c = self.c\n",
    "        if b is None:\n",
    "            b = self.b\n",
    "        if quantile is None:\n",
    "            quantile = self.quantile\n",
    "        predicate_data = PredicateData(data)\n",
    "        disc_data = predicate_data.disc_data\n",
    "        logp = st.norm(self.mean, self.var).logpdf(data.val)\n",
    "        predicates = predicate_data.get_base_predicates(logp)\n",
    "        predicate_search = PredicateSearch(predicates)\n",
    "        predicate = predicate_search.search_features(features=data.drop('val',axis=1).columns, c=c, b=b,\n",
    "                                                     quantile=quantile)\n",
    "        return predicate_search, predicate\n",
    "        \n",
    "    def predict(self, data, c=None, b=None, quantile=None):\n",
    "        predicate_search, predicate = self.search(data, c, b, quantile)\n",
    "        predy = data.index.isin(predicate.selected_index).astype(int)\n",
    "        return predicate_search, predicate, predy"
   ]
  },
  {
   "cell_type": "code",
   "execution_count": 87,
   "metadata": {},
   "outputs": [],
   "source": [
    "class Evaluate:\n",
    "    \n",
    "    def evaluate_predy(self, y, predy):\n",
    "        true_positives = true_positives = ((y == 1).astype(int) * (predy == 1).astype(int)).sum()\n",
    "        if predy.sum() > 0:\n",
    "            precision = true_positives / predy.sum()\n",
    "        else:\n",
    "            precision = 0\n",
    "        if y.sum() > 0:\n",
    "            recall = true_positives / y.sum()\n",
    "        else:\n",
    "            recall = 0\n",
    "        if precision + recall > 0:\n",
    "            f1 = 2 * (precision*recall) / (precision + recall)\n",
    "        else:\n",
    "            f1 = 0\n",
    "        return precision, recall, f1\n",
    "    \n",
    "    def evaluate_data(self, mean, var, synth, data, med_outlier, high_outlier, n=50):\n",
    "        results = []\n",
    "        pred = PredAnomalyDetection(mean, var)\n",
    "        norm = NormAnomalyDetection(mean, var)\n",
    "        for c in np.linspace(0, 1, n):\n",
    "            print(c)\n",
    "            predicate_search, predicate, pred_y = pred.predict(data, c=c)\n",
    "            norm_y = norm.predict(data, c=c)\n",
    "            \n",
    "            pred_med_precision, pred_med_recall, pred_med_f1 = self.evaluate_predy(med_outlier, pred_y)\n",
    "            norm_med_precision, norm_med_recall, norm_med_f1 = self.evaluate_predy(med_outlier, norm_y)\n",
    "            pred_high_precision, pred_high_recall, pred_high_f1 = self.evaluate_predy(high_outlier, pred_y)\n",
    "            norm_high_precision, norm_high_recall, norm_high_f1 = self.evaluate_predy(high_outlier, norm_y)\n",
    "            results.append([c, pred_med_precision, pred_med_recall, pred_med_f1,\n",
    "                               norm_med_precision, norm_med_recall, norm_med_f1,\n",
    "                               pred_high_precision, pred_high_recall, pred_med_f1,\n",
    "                               norm_high_precision, norm_high_recall, norm_high_f1])\n",
    "            \n",
    "        results = pd.DataFrame(results)\n",
    "        results.columns = ['c', 'pred_med_precision', 'pred_med_recall', 'pred_med_f1',\n",
    "                               'norm_med_precision', 'norm_med_recall', 'norm_med_f1',\n",
    "                               'pred_high_precision', 'pred_high_recall', 'pred_high_f1',\n",
    "                               'norm_high_precision', 'norm_high_recall', 'norm_high_f1']\n",
    "        return results\n",
    "    \n",
    "    def evaluate_norm(self, mu, m, mean, var, n_samples):\n",
    "        all_results = []\n",
    "        synth = SynthSingleTarget(mu=mu, m=m)\n",
    "        for i in range(n_samples):\n",
    "            print(i)\n",
    "            data, med_outlier, high_outlier = synth.generate_data()\n",
    "            results = evaluate.evaluate_data(mean, var, synth, data, med_outlier, high_outlier)\n",
    "        return pd.concat(all_results)"
   ]
  },
  {
   "cell_type": "code",
   "execution_count": 88,
   "metadata": {},
   "outputs": [
    {
     "name": "stdout",
     "output_type": "stream",
     "text": [
      "0\n",
      "0.0\n",
      "0.02040816326530612\n",
      "0.04081632653061224\n",
      "0.061224489795918366\n",
      "0.08163265306122448\n",
      "0.1020408163265306\n",
      "0.12244897959183673\n",
      "0.14285714285714285\n",
      "0.16326530612244897\n",
      "0.18367346938775508\n",
      "0.2040816326530612\n",
      "0.22448979591836732\n",
      "0.24489795918367346\n",
      "0.26530612244897955\n",
      "0.2857142857142857\n",
      "0.3061224489795918\n",
      "0.32653061224489793\n",
      "0.3469387755102041\n",
      "0.36734693877551017\n",
      "0.3877551020408163\n",
      "0.4081632653061224\n",
      "0.42857142857142855\n",
      "0.44897959183673464\n",
      "0.4693877551020408\n",
      "0.4897959183673469\n",
      "0.5102040816326531\n",
      "0.5306122448979591\n",
      "0.5510204081632653\n",
      "0.5714285714285714\n",
      "0.5918367346938775\n",
      "0.6122448979591836\n",
      "0.6326530612244897\n",
      "0.6530612244897959\n",
      "0.673469387755102\n",
      "0.6938775510204082\n",
      "0.7142857142857142\n",
      "0.7346938775510203\n",
      "0.7551020408163265\n",
      "0.7755102040816326\n",
      "0.7959183673469387\n",
      "0.8163265306122448\n",
      "0.836734693877551\n",
      "0.8571428571428571\n",
      "0.8775510204081632\n",
      "0.8979591836734693\n",
      "0.9183673469387754\n",
      "0.9387755102040816\n",
      "0.9591836734693877\n",
      "0.9795918367346939\n",
      "1.0\n",
      "1\n",
      "0.0\n",
      "0.02040816326530612\n",
      "0.04081632653061224\n",
      "0.061224489795918366\n",
      "0.08163265306122448\n",
      "0.1020408163265306\n",
      "0.12244897959183673\n",
      "0.14285714285714285\n",
      "0.16326530612244897\n",
      "0.18367346938775508\n",
      "0.2040816326530612\n",
      "0.22448979591836732\n",
      "0.24489795918367346\n",
      "0.26530612244897955\n",
      "0.2857142857142857\n",
      "0.3061224489795918\n",
      "0.32653061224489793\n",
      "0.3469387755102041\n",
      "0.36734693877551017\n",
      "0.3877551020408163\n",
      "0.4081632653061224\n",
      "0.42857142857142855\n",
      "0.44897959183673464\n",
      "0.4693877551020408\n",
      "0.4897959183673469\n",
      "0.5102040816326531\n",
      "0.5306122448979591\n",
      "0.5510204081632653\n",
      "0.5714285714285714\n",
      "0.5918367346938775\n",
      "0.6122448979591836\n",
      "0.6326530612244897\n",
      "0.6530612244897959\n",
      "0.673469387755102\n",
      "0.6938775510204082\n",
      "0.7142857142857142\n",
      "0.7346938775510203\n",
      "0.7551020408163265\n",
      "0.7755102040816326\n",
      "0.7959183673469387\n",
      "0.8163265306122448\n",
      "0.836734693877551\n",
      "0.8571428571428571\n",
      "0.8775510204081632\n",
      "0.8979591836734693\n",
      "0.9183673469387754\n",
      "0.9387755102040816\n",
      "0.9591836734693877\n",
      "0.9795918367346939\n",
      "1.0\n",
      "2\n",
      "0.0\n",
      "0.02040816326530612\n",
      "0.04081632653061224\n",
      "0.061224489795918366\n",
      "0.08163265306122448\n",
      "0.1020408163265306\n",
      "0.12244897959183673\n",
      "0.14285714285714285\n",
      "0.16326530612244897\n",
      "0.18367346938775508\n",
      "0.2040816326530612\n",
      "0.22448979591836732\n",
      "0.24489795918367346\n",
      "0.26530612244897955\n",
      "0.2857142857142857\n",
      "0.3061224489795918\n",
      "0.32653061224489793\n",
      "0.3469387755102041\n",
      "0.36734693877551017\n",
      "0.3877551020408163\n",
      "0.4081632653061224\n",
      "0.42857142857142855\n",
      "0.44897959183673464\n",
      "0.4693877551020408\n",
      "0.4897959183673469\n",
      "0.5102040816326531\n",
      "0.5306122448979591\n",
      "0.5510204081632653\n",
      "0.5714285714285714\n",
      "0.5918367346938775\n",
      "0.6122448979591836\n",
      "0.6326530612244897\n",
      "0.6530612244897959\n",
      "0.673469387755102\n",
      "0.6938775510204082\n",
      "0.7142857142857142\n"
     ]
    },
    {
     "ename": "KeyboardInterrupt",
     "evalue": "",
     "output_type": "error",
     "traceback": [
      "\u001b[0;31m---------------------------------------------------------------------------\u001b[0m",
      "\u001b[0;31mKeyboardInterrupt\u001b[0m                         Traceback (most recent call last)",
      "\u001b[0;32m<ipython-input-88-875210ed70ab>\u001b[0m in \u001b[0;36m<module>\u001b[0;34m\u001b[0m\n\u001b[1;32m      1\u001b[0m \u001b[0mevaluate\u001b[0m \u001b[0;34m=\u001b[0m \u001b[0mEvaluate\u001b[0m\u001b[0;34m(\u001b[0m\u001b[0;34m)\u001b[0m\u001b[0;34m\u001b[0m\u001b[0m\n\u001b[0;32m----> 2\u001b[0;31m \u001b[0mresults\u001b[0m \u001b[0;34m=\u001b[0m \u001b[0mevaluate\u001b[0m\u001b[0;34m.\u001b[0m\u001b[0mevaluate_norm\u001b[0m\u001b[0;34m(\u001b[0m\u001b[0;36m80\u001b[0m\u001b[0;34m,\u001b[0m \u001b[0;36m2\u001b[0m\u001b[0;34m,\u001b[0m \u001b[0;36m10\u001b[0m\u001b[0;34m,\u001b[0m \u001b[0;36m10\u001b[0m\u001b[0;34m,\u001b[0m \u001b[0;36m10\u001b[0m\u001b[0;34m)\u001b[0m\u001b[0;34m\u001b[0m\u001b[0m\n\u001b[0m",
      "\u001b[0;32m<ipython-input-87-bd00762b539f>\u001b[0m in \u001b[0;36mevaluate_norm\u001b[0;34m(self, mu, m, mean, var, n_samples)\u001b[0m\n\u001b[1;32m     48\u001b[0m             \u001b[0mprint\u001b[0m\u001b[0;34m(\u001b[0m\u001b[0mi\u001b[0m\u001b[0;34m)\u001b[0m\u001b[0;34m\u001b[0m\u001b[0m\n\u001b[1;32m     49\u001b[0m             \u001b[0mdata\u001b[0m\u001b[0;34m,\u001b[0m \u001b[0mmed_outlier\u001b[0m\u001b[0;34m,\u001b[0m \u001b[0mhigh_outlier\u001b[0m \u001b[0;34m=\u001b[0m \u001b[0msynth\u001b[0m\u001b[0;34m.\u001b[0m\u001b[0mgenerate_data\u001b[0m\u001b[0;34m(\u001b[0m\u001b[0;34m)\u001b[0m\u001b[0;34m\u001b[0m\u001b[0m\n\u001b[0;32m---> 50\u001b[0;31m             \u001b[0mresults\u001b[0m \u001b[0;34m=\u001b[0m \u001b[0mevaluate\u001b[0m\u001b[0;34m.\u001b[0m\u001b[0mevaluate_data\u001b[0m\u001b[0;34m(\u001b[0m\u001b[0mmean\u001b[0m\u001b[0;34m,\u001b[0m \u001b[0mvar\u001b[0m\u001b[0;34m,\u001b[0m \u001b[0msynth\u001b[0m\u001b[0;34m,\u001b[0m \u001b[0mdata\u001b[0m\u001b[0;34m,\u001b[0m \u001b[0mmed_outlier\u001b[0m\u001b[0;34m,\u001b[0m \u001b[0mhigh_outlier\u001b[0m\u001b[0;34m)\u001b[0m\u001b[0;34m\u001b[0m\u001b[0m\n\u001b[0m\u001b[1;32m     51\u001b[0m         \u001b[0;32mreturn\u001b[0m \u001b[0mpd\u001b[0m\u001b[0;34m.\u001b[0m\u001b[0mconcat\u001b[0m\u001b[0;34m(\u001b[0m\u001b[0mall_results\u001b[0m\u001b[0;34m)\u001b[0m\u001b[0;34m\u001b[0m\u001b[0m\n",
      "\u001b[0;32m<ipython-input-87-bd00762b539f>\u001b[0m in \u001b[0;36mevaluate_data\u001b[0;34m(self, mean, var, synth, data, med_outlier, high_outlier, n)\u001b[0m\n\u001b[1;32m     23\u001b[0m         \u001b[0;32mfor\u001b[0m \u001b[0mc\u001b[0m \u001b[0;32min\u001b[0m \u001b[0mnp\u001b[0m\u001b[0;34m.\u001b[0m\u001b[0mlinspace\u001b[0m\u001b[0;34m(\u001b[0m\u001b[0;36m0\u001b[0m\u001b[0;34m,\u001b[0m \u001b[0;36m1\u001b[0m\u001b[0;34m,\u001b[0m \u001b[0mn\u001b[0m\u001b[0;34m)\u001b[0m\u001b[0;34m:\u001b[0m\u001b[0;34m\u001b[0m\u001b[0m\n\u001b[1;32m     24\u001b[0m             \u001b[0mprint\u001b[0m\u001b[0;34m(\u001b[0m\u001b[0mc\u001b[0m\u001b[0;34m)\u001b[0m\u001b[0;34m\u001b[0m\u001b[0m\n\u001b[0;32m---> 25\u001b[0;31m             \u001b[0mpredicate_search\u001b[0m\u001b[0;34m,\u001b[0m \u001b[0mpredicate\u001b[0m\u001b[0;34m,\u001b[0m \u001b[0mpred_y\u001b[0m \u001b[0;34m=\u001b[0m \u001b[0mpred\u001b[0m\u001b[0;34m.\u001b[0m\u001b[0mpredict\u001b[0m\u001b[0;34m(\u001b[0m\u001b[0mdata\u001b[0m\u001b[0;34m,\u001b[0m \u001b[0mc\u001b[0m\u001b[0;34m=\u001b[0m\u001b[0mc\u001b[0m\u001b[0;34m)\u001b[0m\u001b[0;34m\u001b[0m\u001b[0m\n\u001b[0m\u001b[1;32m     26\u001b[0m             \u001b[0mnorm_y\u001b[0m \u001b[0;34m=\u001b[0m \u001b[0mnorm\u001b[0m\u001b[0;34m.\u001b[0m\u001b[0mpredict\u001b[0m\u001b[0;34m(\u001b[0m\u001b[0mdata\u001b[0m\u001b[0;34m,\u001b[0m \u001b[0mc\u001b[0m\u001b[0;34m=\u001b[0m\u001b[0mc\u001b[0m\u001b[0;34m)\u001b[0m\u001b[0;34m\u001b[0m\u001b[0m\n\u001b[1;32m     27\u001b[0m \u001b[0;34m\u001b[0m\u001b[0m\n",
      "\u001b[0;32m<ipython-input-76-8f7f2797f33b>\u001b[0m in \u001b[0;36mpredict\u001b[0;34m(self, data, c, b, quantile)\u001b[0m\n\u001b[1;32m     25\u001b[0m \u001b[0;34m\u001b[0m\u001b[0m\n\u001b[1;32m     26\u001b[0m     \u001b[0;32mdef\u001b[0m \u001b[0mpredict\u001b[0m\u001b[0;34m(\u001b[0m\u001b[0mself\u001b[0m\u001b[0;34m,\u001b[0m \u001b[0mdata\u001b[0m\u001b[0;34m,\u001b[0m \u001b[0mc\u001b[0m\u001b[0;34m=\u001b[0m\u001b[0;32mNone\u001b[0m\u001b[0;34m,\u001b[0m \u001b[0mb\u001b[0m\u001b[0;34m=\u001b[0m\u001b[0;32mNone\u001b[0m\u001b[0;34m,\u001b[0m \u001b[0mquantile\u001b[0m\u001b[0;34m=\u001b[0m\u001b[0;32mNone\u001b[0m\u001b[0;34m)\u001b[0m\u001b[0;34m:\u001b[0m\u001b[0;34m\u001b[0m\u001b[0m\n\u001b[0;32m---> 27\u001b[0;31m         \u001b[0mpredicate_search\u001b[0m\u001b[0;34m,\u001b[0m \u001b[0mpredicate\u001b[0m \u001b[0;34m=\u001b[0m \u001b[0mself\u001b[0m\u001b[0;34m.\u001b[0m\u001b[0msearch\u001b[0m\u001b[0;34m(\u001b[0m\u001b[0mdata\u001b[0m\u001b[0;34m,\u001b[0m \u001b[0mc\u001b[0m\u001b[0;34m,\u001b[0m \u001b[0mb\u001b[0m\u001b[0;34m,\u001b[0m \u001b[0mquantile\u001b[0m\u001b[0;34m)\u001b[0m\u001b[0;34m\u001b[0m\u001b[0m\n\u001b[0m\u001b[1;32m     28\u001b[0m         \u001b[0mpredy\u001b[0m \u001b[0;34m=\u001b[0m \u001b[0mdata\u001b[0m\u001b[0;34m.\u001b[0m\u001b[0mindex\u001b[0m\u001b[0;34m.\u001b[0m\u001b[0misin\u001b[0m\u001b[0;34m(\u001b[0m\u001b[0mpredicate\u001b[0m\u001b[0;34m.\u001b[0m\u001b[0mselected_index\u001b[0m\u001b[0;34m)\u001b[0m\u001b[0;34m.\u001b[0m\u001b[0mastype\u001b[0m\u001b[0;34m(\u001b[0m\u001b[0mint\u001b[0m\u001b[0;34m)\u001b[0m\u001b[0;34m\u001b[0m\u001b[0m\n\u001b[1;32m     29\u001b[0m         \u001b[0;32mreturn\u001b[0m \u001b[0mpredicate_search\u001b[0m\u001b[0;34m,\u001b[0m \u001b[0mpredicate\u001b[0m\u001b[0;34m,\u001b[0m \u001b[0mpredy\u001b[0m\u001b[0;34m\u001b[0m\u001b[0m\n",
      "\u001b[0;32m<ipython-input-76-8f7f2797f33b>\u001b[0m in \u001b[0;36msearch\u001b[0;34m(self, data, c, b, quantile)\u001b[0m\n\u001b[1;32m     21\u001b[0m         \u001b[0mpredicate_search\u001b[0m \u001b[0;34m=\u001b[0m \u001b[0mPredicateSearch\u001b[0m\u001b[0;34m(\u001b[0m\u001b[0mpredicates\u001b[0m\u001b[0;34m)\u001b[0m\u001b[0;34m\u001b[0m\u001b[0m\n\u001b[1;32m     22\u001b[0m         predicate = predicate_search.search_features(features=data.drop('val',axis=1).columns, c=c, b=b,\n\u001b[0;32m---> 23\u001b[0;31m                                                      quantile=quantile)\n\u001b[0m\u001b[1;32m     24\u001b[0m         \u001b[0;32mreturn\u001b[0m \u001b[0mpredicate_search\u001b[0m\u001b[0;34m,\u001b[0m \u001b[0mpredicate\u001b[0m\u001b[0;34m\u001b[0m\u001b[0m\n\u001b[1;32m     25\u001b[0m \u001b[0;34m\u001b[0m\u001b[0m\n",
      "\u001b[0;32m~/Desktop/repositories/predicate_search/predicate_search/predicate_search.py\u001b[0m in \u001b[0;36msearch_features\u001b[0;34m(self, features, index, c, b, quantile, maxiters)\u001b[0m\n\u001b[1;32m    161\u001b[0m             \u001b[0;31m#     for p in predicates:\u001b[0m\u001b[0;34m\u001b[0m\u001b[0;34m\u001b[0m\u001b[0m\n\u001b[1;32m    162\u001b[0m             \u001b[0;31m#         print(p)\u001b[0m\u001b[0;34m\u001b[0m\u001b[0;34m\u001b[0m\u001b[0m\n\u001b[0;32m--> 163\u001b[0;31m             \u001b[0mmerged\u001b[0m \u001b[0;34m=\u001b[0m \u001b[0mself\u001b[0m\u001b[0;34m.\u001b[0m\u001b[0mmerge_adjacent\u001b[0m\u001b[0;34m(\u001b[0m\u001b[0mpredicates\u001b[0m\u001b[0;34m,\u001b[0m \u001b[0mscaled_c\u001b[0m\u001b[0;34m)\u001b[0m\u001b[0;34m\u001b[0m\u001b[0m\n\u001b[0m\u001b[1;32m    164\u001b[0m             \u001b[0;31m# print('done merging')\u001b[0m\u001b[0;34m\u001b[0m\u001b[0;34m\u001b[0m\u001b[0m\n\u001b[1;32m    165\u001b[0m             \u001b[0;31m#\u001b[0m\u001b[0;34m\u001b[0m\u001b[0;34m\u001b[0m\u001b[0m\n",
      "\u001b[0;32m~/Desktop/repositories/predicate_search/predicate_search/predicate_search.py\u001b[0m in \u001b[0;36mmerge_adjacent\u001b[0;34m(self, predicates, c)\u001b[0m\n\u001b[1;32m     50\u001b[0m         \u001b[0msorted_features\u001b[0m\u001b[0;34m,\u001b[0m \u001b[0mgrouped\u001b[0m \u001b[0;34m=\u001b[0m \u001b[0mself\u001b[0m\u001b[0;34m.\u001b[0m\u001b[0mgroup_predicates\u001b[0m\u001b[0;34m(\u001b[0m\u001b[0mpredicates\u001b[0m\u001b[0;34m,\u001b[0m \u001b[0mc\u001b[0m\u001b[0;34m)\u001b[0m\u001b[0;34m\u001b[0m\u001b[0m\n\u001b[1;32m     51\u001b[0m         \u001b[0;32mfor\u001b[0m \u001b[0mk\u001b[0m \u001b[0;32min\u001b[0m \u001b[0msorted_features\u001b[0m\u001b[0;34m:\u001b[0m\u001b[0;34m\u001b[0m\u001b[0m\n\u001b[0;32m---> 52\u001b[0;31m             \u001b[0mmerged_features\u001b[0m \u001b[0;34m=\u001b[0m \u001b[0mself\u001b[0m\u001b[0;34m.\u001b[0m\u001b[0mmerge_same_features\u001b[0m\u001b[0;34m(\u001b[0m\u001b[0mgrouped\u001b[0m\u001b[0;34m[\u001b[0m\u001b[0mk\u001b[0m\u001b[0;34m]\u001b[0m\u001b[0;34m,\u001b[0m \u001b[0mc\u001b[0m\u001b[0;34m)\u001b[0m\u001b[0;34m\u001b[0m\u001b[0m\n\u001b[0m\u001b[1;32m     53\u001b[0m             \u001b[0mmerged\u001b[0m \u001b[0;34m+=\u001b[0m \u001b[0mmerged_features\u001b[0m\u001b[0;34m\u001b[0m\u001b[0m\n\u001b[1;32m     54\u001b[0m         \u001b[0mmerged_filtered\u001b[0m \u001b[0;34m=\u001b[0m \u001b[0;34m(\u001b[0m\u001b[0;34m[\u001b[0m\u001b[0mnext\u001b[0m\u001b[0;34m(\u001b[0m\u001b[0mv\u001b[0m\u001b[0;34m)\u001b[0m \u001b[0;32mfor\u001b[0m \u001b[0mk\u001b[0m\u001b[0;34m,\u001b[0m \u001b[0mv\u001b[0m \u001b[0;32min\u001b[0m \u001b[0mitertools\u001b[0m\u001b[0;34m.\u001b[0m\u001b[0mgroupby\u001b[0m\u001b[0;34m(\u001b[0m\u001b[0mmerged\u001b[0m\u001b[0;34m,\u001b[0m \u001b[0;32mlambda\u001b[0m \u001b[0mx\u001b[0m\u001b[0;34m:\u001b[0m \u001b[0mx\u001b[0m\u001b[0;34m.\u001b[0m\u001b[0mquery\u001b[0m\u001b[0;34m)\u001b[0m\u001b[0;34m]\u001b[0m\u001b[0;34m)\u001b[0m\u001b[0;34m\u001b[0m\u001b[0m\n",
      "\u001b[0;32m~/Desktop/repositories/predicate_search/predicate_search/predicate_search.py\u001b[0m in \u001b[0;36mmerge_same_features\u001b[0;34m(self, predicates, c)\u001b[0m\n\u001b[1;32m     29\u001b[0m         \u001b[0;32mwhile\u001b[0m \u001b[0mlen\u001b[0m\u001b[0;34m(\u001b[0m\u001b[0mpredicates\u001b[0m\u001b[0;34m)\u001b[0m \u001b[0;34m>\u001b[0m \u001b[0;36m0\u001b[0m\u001b[0;34m:\u001b[0m\u001b[0;34m\u001b[0m\u001b[0m\n\u001b[1;32m     30\u001b[0m             \u001b[0mp\u001b[0m \u001b[0;34m=\u001b[0m \u001b[0mpredicates\u001b[0m\u001b[0;34m.\u001b[0m\u001b[0mpop\u001b[0m\u001b[0;34m(\u001b[0m\u001b[0;36m0\u001b[0m\u001b[0;34m)\u001b[0m\u001b[0;34m\u001b[0m\u001b[0m\n\u001b[0;32m---> 31\u001b[0;31m             \u001b[0mp\u001b[0m\u001b[0;34m,\u001b[0m \u001b[0mpredicates\u001b[0m \u001b[0;34m=\u001b[0m \u001b[0mself\u001b[0m\u001b[0;34m.\u001b[0m\u001b[0mmerge_predicate_list\u001b[0m\u001b[0;34m(\u001b[0m\u001b[0mp\u001b[0m\u001b[0;34m,\u001b[0m \u001b[0mpredicates\u001b[0m\u001b[0;34m,\u001b[0m \u001b[0mc\u001b[0m\u001b[0;34m)\u001b[0m\u001b[0;34m\u001b[0m\u001b[0m\n\u001b[0m\u001b[1;32m     32\u001b[0m             \u001b[0mmerged_predicates\u001b[0m\u001b[0;34m.\u001b[0m\u001b[0mappend\u001b[0m\u001b[0;34m(\u001b[0m\u001b[0mp\u001b[0m\u001b[0;34m)\u001b[0m\u001b[0;34m\u001b[0m\u001b[0m\n\u001b[1;32m     33\u001b[0m         \u001b[0;32mreturn\u001b[0m \u001b[0mmerged_predicates\u001b[0m\u001b[0;34m\u001b[0m\u001b[0m\n",
      "\u001b[0;32m~/Desktop/repositories/predicate_search/predicate_search/predicate_search.py\u001b[0m in \u001b[0;36mmerge_predicate_list\u001b[0;34m(self, p, predicates, c)\u001b[0m\n\u001b[1;32m     37\u001b[0m         \u001b[0;32mfor\u001b[0m \u001b[0mi\u001b[0m \u001b[0;32min\u001b[0m \u001b[0mrange\u001b[0m\u001b[0;34m(\u001b[0m\u001b[0mlen\u001b[0m\u001b[0;34m(\u001b[0m\u001b[0mpredicates\u001b[0m\u001b[0;34m)\u001b[0m\u001b[0;34m)\u001b[0m\u001b[0;34m:\u001b[0m\u001b[0;34m\u001b[0m\u001b[0m\n\u001b[1;32m     38\u001b[0m             \u001b[0mnew_p\u001b[0m \u001b[0;34m=\u001b[0m \u001b[0mpredicates\u001b[0m\u001b[0;34m[\u001b[0m\u001b[0mi\u001b[0m\u001b[0;34m]\u001b[0m\u001b[0;34m\u001b[0m\u001b[0m\n\u001b[0;32m---> 39\u001b[0;31m             \u001b[0;32mif\u001b[0m \u001b[0mp\u001b[0m\u001b[0;34m.\u001b[0m\u001b[0mis_adjacent\u001b[0m\u001b[0;34m(\u001b[0m\u001b[0mnew_p\u001b[0m\u001b[0;34m)\u001b[0m\u001b[0;34m:\u001b[0m\u001b[0;34m\u001b[0m\u001b[0m\n\u001b[0m\u001b[1;32m     40\u001b[0m                 \u001b[0mmerged_p\u001b[0m \u001b[0;34m=\u001b[0m \u001b[0mp\u001b[0m\u001b[0;34m.\u001b[0m\u001b[0mmerge\u001b[0m\u001b[0;34m(\u001b[0m\u001b[0mnew_p\u001b[0m\u001b[0;34m)\u001b[0m\u001b[0;34m\u001b[0m\u001b[0m\n\u001b[1;32m     41\u001b[0m                 \u001b[0mnew_influence\u001b[0m \u001b[0;34m=\u001b[0m \u001b[0mmerged_p\u001b[0m\u001b[0;34m.\u001b[0m\u001b[0mget_influence\u001b[0m\u001b[0;34m(\u001b[0m\u001b[0mc\u001b[0m\u001b[0;34m)\u001b[0m\u001b[0;34m\u001b[0m\u001b[0m\n",
      "\u001b[0;32m~/Desktop/repositories/predicate_search/predicate_search/predicate.py\u001b[0m in \u001b[0;36mis_adjacent\u001b[0;34m(self, predicate)\u001b[0m\n\u001b[1;32m    189\u001b[0m         \u001b[0madjacent_vals_count\u001b[0m \u001b[0;34m=\u001b[0m \u001b[0;36m0\u001b[0m\u001b[0;34m\u001b[0m\u001b[0m\n\u001b[1;32m    190\u001b[0m         \u001b[0;32mfor\u001b[0m \u001b[0mi\u001b[0m \u001b[0;32min\u001b[0m \u001b[0mrange\u001b[0m\u001b[0;34m(\u001b[0m\u001b[0mlen\u001b[0m\u001b[0;34m(\u001b[0m\u001b[0msorted_predicates1\u001b[0m\u001b[0;34m)\u001b[0m\u001b[0;34m)\u001b[0m\u001b[0;34m:\u001b[0m\u001b[0;34m\u001b[0m\u001b[0m\n\u001b[0;32m--> 191\u001b[0;31m             \u001b[0;32mif\u001b[0m \u001b[0msorted_predicates1\u001b[0m\u001b[0;34m[\u001b[0m\u001b[0mi\u001b[0m\u001b[0;34m]\u001b[0m\u001b[0;34m.\u001b[0m\u001b[0mis_adjacent\u001b[0m\u001b[0;34m(\u001b[0m\u001b[0msorted_predicates2\u001b[0m\u001b[0;34m[\u001b[0m\u001b[0mi\u001b[0m\u001b[0;34m]\u001b[0m\u001b[0;34m)\u001b[0m\u001b[0;34m:\u001b[0m\u001b[0;34m\u001b[0m\u001b[0m\n\u001b[0m\u001b[1;32m    192\u001b[0m                 \u001b[0;32mif\u001b[0m \u001b[0msorted_predicates1\u001b[0m\u001b[0;34m[\u001b[0m\u001b[0mi\u001b[0m\u001b[0;34m]\u001b[0m\u001b[0;34m.\u001b[0m\u001b[0mvalues\u001b[0m \u001b[0;34m==\u001b[0m \u001b[0msorted_predicates2\u001b[0m\u001b[0;34m[\u001b[0m\u001b[0mi\u001b[0m\u001b[0;34m]\u001b[0m\u001b[0;34m.\u001b[0m\u001b[0mvalues\u001b[0m\u001b[0;34m:\u001b[0m\u001b[0;34m\u001b[0m\u001b[0m\n\u001b[1;32m    193\u001b[0m                     \u001b[0mequal_vals_count\u001b[0m \u001b[0;34m+=\u001b[0m \u001b[0;36m0\u001b[0m\u001b[0;34m\u001b[0m\u001b[0m\n",
      "\u001b[0;32m~/Desktop/repositories/predicate_search/predicate_search/predicate.py\u001b[0m in \u001b[0;36mis_adjacent\u001b[0;34m(self, predicate)\u001b[0m\n\u001b[1;32m    126\u001b[0m         \u001b[0mintervals\u001b[0m \u001b[0;34m=\u001b[0m \u001b[0mself\u001b[0m\u001b[0;34m.\u001b[0m\u001b[0mmerge_interval_lists\u001b[0m\u001b[0;34m(\u001b[0m\u001b[0mself\u001b[0m\u001b[0;34m.\u001b[0m\u001b[0mvalues\u001b[0m\u001b[0;34m.\u001b[0m\u001b[0mcopy\u001b[0m\u001b[0;34m(\u001b[0m\u001b[0;34m)\u001b[0m\u001b[0;34m,\u001b[0m \u001b[0mpredicate\u001b[0m\u001b[0;34m.\u001b[0m\u001b[0mvalues\u001b[0m\u001b[0;34m.\u001b[0m\u001b[0mcopy\u001b[0m\u001b[0;34m(\u001b[0m\u001b[0;34m)\u001b[0m\u001b[0;34m)\u001b[0m\u001b[0;34m\u001b[0m\u001b[0m\n\u001b[1;32m    127\u001b[0m         \u001b[0;32mfor\u001b[0m \u001b[0mi\u001b[0m \u001b[0;32min\u001b[0m \u001b[0mrange\u001b[0m\u001b[0;34m(\u001b[0m\u001b[0mlen\u001b[0m\u001b[0;34m(\u001b[0m\u001b[0mintervals\u001b[0m\u001b[0;34m)\u001b[0m\u001b[0;34m-\u001b[0m\u001b[0;36m1\u001b[0m\u001b[0;34m)\u001b[0m\u001b[0;34m:\u001b[0m\u001b[0;34m\u001b[0m\u001b[0m\n\u001b[0;32m--> 128\u001b[0;31m             \u001b[0;32mif\u001b[0m \u001b[0mself\u001b[0m\u001b[0;34m.\u001b[0m\u001b[0madj_matrix\u001b[0m\u001b[0;34m[\u001b[0m\u001b[0mintervals\u001b[0m\u001b[0;34m[\u001b[0m\u001b[0mi\u001b[0m\u001b[0;34m]\u001b[0m\u001b[0;34m[\u001b[0m\u001b[0;36m1\u001b[0m\u001b[0;34m]\u001b[0m\u001b[0;34m]\u001b[0m\u001b[0;34m.\u001b[0m\u001b[0mloc\u001b[0m\u001b[0;34m[\u001b[0m\u001b[0mintervals\u001b[0m\u001b[0;34m[\u001b[0m\u001b[0mi\u001b[0m\u001b[0;34m+\u001b[0m\u001b[0;36m1\u001b[0m\u001b[0;34m]\u001b[0m\u001b[0;34m[\u001b[0m\u001b[0;36m0\u001b[0m\u001b[0;34m]\u001b[0m\u001b[0;34m]\u001b[0m\u001b[0;34m:\u001b[0m\u001b[0;34m\u001b[0m\u001b[0m\n\u001b[0m\u001b[1;32m    129\u001b[0m                 \u001b[0;32mreturn\u001b[0m \u001b[0;32mTrue\u001b[0m\u001b[0;34m\u001b[0m\u001b[0m\n\u001b[1;32m    130\u001b[0m         \u001b[0;32mreturn\u001b[0m \u001b[0;32mFalse\u001b[0m\u001b[0;34m\u001b[0m\u001b[0m\n",
      "\u001b[0;32m~/anaconda3/envs/forecasting/lib/python3.7/site-packages/pandas/core/indexing.py\u001b[0m in \u001b[0;36m__getitem__\u001b[0;34m(self, key)\u001b[0m\n\u001b[1;32m   1422\u001b[0m \u001b[0;34m\u001b[0m\u001b[0m\n\u001b[1;32m   1423\u001b[0m             \u001b[0mmaybe_callable\u001b[0m \u001b[0;34m=\u001b[0m \u001b[0mcom\u001b[0m\u001b[0;34m.\u001b[0m\u001b[0mapply_if_callable\u001b[0m\u001b[0;34m(\u001b[0m\u001b[0mkey\u001b[0m\u001b[0;34m,\u001b[0m \u001b[0mself\u001b[0m\u001b[0;34m.\u001b[0m\u001b[0mobj\u001b[0m\u001b[0;34m)\u001b[0m\u001b[0;34m\u001b[0m\u001b[0m\n\u001b[0;32m-> 1424\u001b[0;31m             \u001b[0;32mreturn\u001b[0m \u001b[0mself\u001b[0m\u001b[0;34m.\u001b[0m\u001b[0m_getitem_axis\u001b[0m\u001b[0;34m(\u001b[0m\u001b[0mmaybe_callable\u001b[0m\u001b[0;34m,\u001b[0m \u001b[0maxis\u001b[0m\u001b[0;34m=\u001b[0m\u001b[0maxis\u001b[0m\u001b[0;34m)\u001b[0m\u001b[0;34m\u001b[0m\u001b[0m\n\u001b[0m\u001b[1;32m   1425\u001b[0m \u001b[0;34m\u001b[0m\u001b[0m\n\u001b[1;32m   1426\u001b[0m     \u001b[0;32mdef\u001b[0m \u001b[0m_is_scalar_access\u001b[0m\u001b[0;34m(\u001b[0m\u001b[0mself\u001b[0m\u001b[0;34m,\u001b[0m \u001b[0mkey\u001b[0m\u001b[0;34m:\u001b[0m \u001b[0mTuple\u001b[0m\u001b[0;34m)\u001b[0m\u001b[0;34m:\u001b[0m\u001b[0;34m\u001b[0m\u001b[0m\n",
      "\u001b[0;32m~/anaconda3/envs/forecasting/lib/python3.7/site-packages/pandas/core/indexing.py\u001b[0m in \u001b[0;36m_getitem_axis\u001b[0;34m(self, key, axis)\u001b[0m\n\u001b[1;32m   1848\u001b[0m         \u001b[0;31m# fall thru to straight lookup\u001b[0m\u001b[0;34m\u001b[0m\u001b[0;34m\u001b[0m\u001b[0m\n\u001b[1;32m   1849\u001b[0m         \u001b[0mself\u001b[0m\u001b[0;34m.\u001b[0m\u001b[0m_validate_key\u001b[0m\u001b[0;34m(\u001b[0m\u001b[0mkey\u001b[0m\u001b[0;34m,\u001b[0m \u001b[0maxis\u001b[0m\u001b[0;34m)\u001b[0m\u001b[0;34m\u001b[0m\u001b[0m\n\u001b[0;32m-> 1850\u001b[0;31m         \u001b[0;32mreturn\u001b[0m \u001b[0mself\u001b[0m\u001b[0;34m.\u001b[0m\u001b[0m_get_label\u001b[0m\u001b[0;34m(\u001b[0m\u001b[0mkey\u001b[0m\u001b[0;34m,\u001b[0m \u001b[0maxis\u001b[0m\u001b[0;34m=\u001b[0m\u001b[0maxis\u001b[0m\u001b[0;34m)\u001b[0m\u001b[0;34m\u001b[0m\u001b[0m\n\u001b[0m\u001b[1;32m   1851\u001b[0m \u001b[0;34m\u001b[0m\u001b[0m\n\u001b[1;32m   1852\u001b[0m \u001b[0;34m\u001b[0m\u001b[0m\n",
      "\u001b[0;32m~/anaconda3/envs/forecasting/lib/python3.7/site-packages/pandas/core/indexing.py\u001b[0m in \u001b[0;36m_get_label\u001b[0;34m(self, label, axis)\u001b[0m\n\u001b[1;32m    154\u001b[0m             \u001b[0;31m# but will fail when the index is not present\u001b[0m\u001b[0;34m\u001b[0m\u001b[0;34m\u001b[0m\u001b[0m\n\u001b[1;32m    155\u001b[0m             \u001b[0;31m# see GH5667\u001b[0m\u001b[0;34m\u001b[0m\u001b[0;34m\u001b[0m\u001b[0m\n\u001b[0;32m--> 156\u001b[0;31m             \u001b[0;32mreturn\u001b[0m \u001b[0mself\u001b[0m\u001b[0;34m.\u001b[0m\u001b[0mobj\u001b[0m\u001b[0;34m.\u001b[0m\u001b[0m_xs\u001b[0m\u001b[0;34m(\u001b[0m\u001b[0mlabel\u001b[0m\u001b[0;34m,\u001b[0m \u001b[0maxis\u001b[0m\u001b[0;34m=\u001b[0m\u001b[0maxis\u001b[0m\u001b[0;34m)\u001b[0m\u001b[0;34m\u001b[0m\u001b[0m\n\u001b[0m\u001b[1;32m    157\u001b[0m         \u001b[0;32melif\u001b[0m \u001b[0misinstance\u001b[0m\u001b[0;34m(\u001b[0m\u001b[0mlabel\u001b[0m\u001b[0;34m,\u001b[0m \u001b[0mtuple\u001b[0m\u001b[0;34m)\u001b[0m \u001b[0;32mand\u001b[0m \u001b[0misinstance\u001b[0m\u001b[0;34m(\u001b[0m\u001b[0mlabel\u001b[0m\u001b[0;34m[\u001b[0m\u001b[0maxis\u001b[0m\u001b[0;34m]\u001b[0m\u001b[0;34m,\u001b[0m \u001b[0mslice\u001b[0m\u001b[0;34m)\u001b[0m\u001b[0;34m:\u001b[0m\u001b[0;34m\u001b[0m\u001b[0m\n\u001b[1;32m    158\u001b[0m             \u001b[0;32mraise\u001b[0m \u001b[0mIndexingError\u001b[0m\u001b[0;34m(\u001b[0m\u001b[0;34m\"no slices here, handle elsewhere\"\u001b[0m\u001b[0;34m)\u001b[0m\u001b[0;34m\u001b[0m\u001b[0m\n",
      "\u001b[0;32m~/anaconda3/envs/forecasting/lib/python3.7/site-packages/pandas/core/generic.py\u001b[0m in \u001b[0;36mxs\u001b[0;34m(self, key, axis, level, drop_level)\u001b[0m\n\u001b[1;32m   3713\u001b[0m         \"\"\"\n\u001b[1;32m   3714\u001b[0m         \u001b[0maxis\u001b[0m \u001b[0;34m=\u001b[0m \u001b[0mself\u001b[0m\u001b[0;34m.\u001b[0m\u001b[0m_get_axis_number\u001b[0m\u001b[0;34m(\u001b[0m\u001b[0maxis\u001b[0m\u001b[0;34m)\u001b[0m\u001b[0;34m\u001b[0m\u001b[0m\n\u001b[0;32m-> 3715\u001b[0;31m         \u001b[0mlabels\u001b[0m \u001b[0;34m=\u001b[0m \u001b[0mself\u001b[0m\u001b[0;34m.\u001b[0m\u001b[0m_get_axis\u001b[0m\u001b[0;34m(\u001b[0m\u001b[0maxis\u001b[0m\u001b[0;34m)\u001b[0m\u001b[0;34m\u001b[0m\u001b[0m\n\u001b[0m\u001b[1;32m   3716\u001b[0m         \u001b[0;32mif\u001b[0m \u001b[0mlevel\u001b[0m \u001b[0;32mis\u001b[0m \u001b[0;32mnot\u001b[0m \u001b[0;32mNone\u001b[0m\u001b[0;34m:\u001b[0m\u001b[0;34m\u001b[0m\u001b[0m\n\u001b[1;32m   3717\u001b[0m             \u001b[0mloc\u001b[0m\u001b[0;34m,\u001b[0m \u001b[0mnew_ax\u001b[0m \u001b[0;34m=\u001b[0m \u001b[0mlabels\u001b[0m\u001b[0;34m.\u001b[0m\u001b[0mget_loc_level\u001b[0m\u001b[0;34m(\u001b[0m\u001b[0mkey\u001b[0m\u001b[0;34m,\u001b[0m \u001b[0mlevel\u001b[0m\u001b[0;34m=\u001b[0m\u001b[0mlevel\u001b[0m\u001b[0;34m,\u001b[0m \u001b[0mdrop_level\u001b[0m\u001b[0;34m=\u001b[0m\u001b[0mdrop_level\u001b[0m\u001b[0;34m)\u001b[0m\u001b[0;34m\u001b[0m\u001b[0m\n",
      "\u001b[0;32m~/anaconda3/envs/forecasting/lib/python3.7/site-packages/pandas/core/generic.py\u001b[0m in \u001b[0;36m_get_axis\u001b[0;34m(self, axis)\u001b[0m\n\u001b[1;32m    425\u001b[0m \u001b[0;34m\u001b[0m\u001b[0m\n\u001b[1;32m    426\u001b[0m     \u001b[0;32mdef\u001b[0m \u001b[0m_get_axis\u001b[0m\u001b[0;34m(\u001b[0m\u001b[0mself\u001b[0m\u001b[0;34m,\u001b[0m \u001b[0maxis\u001b[0m\u001b[0;34m)\u001b[0m\u001b[0;34m:\u001b[0m\u001b[0;34m\u001b[0m\u001b[0m\n\u001b[0;32m--> 427\u001b[0;31m         \u001b[0mname\u001b[0m \u001b[0;34m=\u001b[0m \u001b[0mself\u001b[0m\u001b[0;34m.\u001b[0m\u001b[0m_get_axis_name\u001b[0m\u001b[0;34m(\u001b[0m\u001b[0maxis\u001b[0m\u001b[0;34m)\u001b[0m\u001b[0;34m\u001b[0m\u001b[0m\n\u001b[0m\u001b[1;32m    428\u001b[0m         \u001b[0;32mreturn\u001b[0m \u001b[0mgetattr\u001b[0m\u001b[0;34m(\u001b[0m\u001b[0mself\u001b[0m\u001b[0;34m,\u001b[0m \u001b[0mname\u001b[0m\u001b[0;34m)\u001b[0m\u001b[0;34m\u001b[0m\u001b[0m\n\u001b[1;32m    429\u001b[0m \u001b[0;34m\u001b[0m\u001b[0m\n",
      "\u001b[0;32m~/anaconda3/envs/forecasting/lib/python3.7/site-packages/pandas/core/generic.py\u001b[0m in \u001b[0;36m_get_axis_name\u001b[0;34m(cls, axis)\u001b[0m\n\u001b[1;32m    414\u001b[0m     \u001b[0;32mdef\u001b[0m \u001b[0m_get_axis_name\u001b[0m\u001b[0;34m(\u001b[0m\u001b[0mcls\u001b[0m\u001b[0;34m,\u001b[0m \u001b[0maxis\u001b[0m\u001b[0;34m)\u001b[0m\u001b[0;34m:\u001b[0m\u001b[0;34m\u001b[0m\u001b[0m\n\u001b[1;32m    415\u001b[0m         \u001b[0maxis\u001b[0m \u001b[0;34m=\u001b[0m \u001b[0mcls\u001b[0m\u001b[0;34m.\u001b[0m\u001b[0m_AXIS_ALIASES\u001b[0m\u001b[0;34m.\u001b[0m\u001b[0mget\u001b[0m\u001b[0;34m(\u001b[0m\u001b[0maxis\u001b[0m\u001b[0;34m,\u001b[0m \u001b[0maxis\u001b[0m\u001b[0;34m)\u001b[0m\u001b[0;34m\u001b[0m\u001b[0m\n\u001b[0;32m--> 416\u001b[0;31m         \u001b[0;32mif\u001b[0m \u001b[0misinstance\u001b[0m\u001b[0;34m(\u001b[0m\u001b[0maxis\u001b[0m\u001b[0;34m,\u001b[0m \u001b[0mstr\u001b[0m\u001b[0;34m)\u001b[0m\u001b[0;34m:\u001b[0m\u001b[0;34m\u001b[0m\u001b[0m\n\u001b[0m\u001b[1;32m    417\u001b[0m             \u001b[0;32mif\u001b[0m \u001b[0maxis\u001b[0m \u001b[0;32min\u001b[0m \u001b[0mcls\u001b[0m\u001b[0;34m.\u001b[0m\u001b[0m_AXIS_NUMBERS\u001b[0m\u001b[0;34m:\u001b[0m\u001b[0;34m\u001b[0m\u001b[0m\n\u001b[1;32m    418\u001b[0m                 \u001b[0;32mreturn\u001b[0m \u001b[0maxis\u001b[0m\u001b[0;34m\u001b[0m\u001b[0m\n",
      "\u001b[0;31mKeyboardInterrupt\u001b[0m: "
     ]
    }
   ],
   "source": [
    "evaluate = Evaluate()\n",
    "results = evaluate.evaluate_norm(80, 2, 10, 10, 10)"
   ]
  },
  {
   "cell_type": "code",
   "execution_count": null,
   "metadata": {},
   "outputs": [],
   "source": [
    "results"
   ]
  },
  {
   "cell_type": "code",
   "execution_count": 71,
   "metadata": {},
   "outputs": [],
   "source": [
    "synth = SynthSingleTarget(mu=80, m=2)\n",
    "data, med_outlier, high_outlier = synth.generate_data()\n",
    "mean = 10\n",
    "var = 10"
   ]
  },
  {
   "cell_type": "code",
   "execution_count": 72,
   "metadata": {},
   "outputs": [
    {
     "name": "stdout",
     "output_type": "stream",
     "text": [
      "0.0 10.0 10.0\n",
      "f0: [(19, 79)]\n",
      "0.25 6.813606360356248 13.186393639643752\n",
      "[f0: [(19, 78)], f1: [(20, 76)]]\n",
      "0.5 3.255102498039183 16.744897501960818\n",
      "[f0: [(41, 58)], f1: [(40, 60)]]\n",
      "0.75 -1.5034938037600796 21.50349380376008\n",
      "[f0: [(42, 42)], f1: [(42, 42)]]\n",
      "1.0 -inf inf\n",
      "[f0: [(42, 42)], f1: [(42, 42)]]\n"
     ]
    }
   ],
   "source": [
    "evaluate = Evaluate()\n",
    "results = evaluate.evaluate_data(mean, var, synth, data, med_outlier, high_outlier)"
   ]
  },
  {
   "cell_type": "code",
   "execution_count": null,
   "metadata": {},
   "outputs": [],
   "source": [
    "results"
   ]
  },
  {
   "cell_type": "code",
   "execution_count": 74,
   "metadata": {},
   "outputs": [
    {
     "data": {
      "text/plain": [
       "<matplotlib.axes._subplots.AxesSubplot at 0x12b4679e8>"
      ]
     },
     "execution_count": 74,
     "metadata": {},
     "output_type": "execute_result"
    },
    {
     "data": {
      "image/png": "[encoded data removed]",
      "text/plain": [
       "<Figure size 432x288 with 1 Axes>"
      ]
     },
     "metadata": {
      "needs_background": "light"
     },
     "output_type": "display_data"
    }
   ],
   "source": [
    "results.set_index('c')[['pred_med_recall', 'norm_med_recall']].plot()"
   ]
  },
  {
   "cell_type": "code",
   "execution_count": 8,
   "metadata": {
    "scrolled": true
   },
   "outputs": [],
   "source": [
    "pred = PredAnomalyDetection(mean, var)\n",
    "predicate_search, predicate, pred_predy = pred.predict(data, c=.5, quantile=.25)"
   ]
  },
  {
   "cell_type": "code",
   "execution_count": 9,
   "metadata": {},
   "outputs": [
    {
     "data": {
      "text/plain": [
       "0.6645"
      ]
     },
     "execution_count": 9,
     "metadata": {},
     "output_type": "execute_result"
    }
   ],
   "source": [
    "(med_outlier == pred_predy).mean()"
   ]
  },
  {
   "cell_type": "code",
   "execution_count": 10,
   "metadata": {},
   "outputs": [
    {
     "data": {
      "text/plain": [
       "0.043"
      ]
     },
     "execution_count": 10,
     "metadata": {},
     "output_type": "execute_result"
    }
   ],
   "source": [
    "pred_predy.mean()"
   ]
  },
  {
   "cell_type": "code",
   "execution_count": 11,
   "metadata": {},
   "outputs": [
    {
     "data": {
      "text/plain": [
       "[f0: [(40, 61)], f1: [(39, 58)]]"
      ]
     },
     "execution_count": 11,
     "metadata": {},
     "output_type": "execute_result"
    }
   ],
   "source": [
    "predicate"
   ]
  },
  {
   "cell_type": "code",
   "execution_count": 12,
   "metadata": {},
   "outputs": [],
   "source": [
    "# pred = PredAnomalyDetection(mean, var)"
   ]
  },
  {
   "cell_type": "code",
   "execution_count": 13,
   "metadata": {},
   "outputs": [],
   "source": [
    "# norm = NormAnomalyDetection(mean, var)"
   ]
  },
  {
   "cell_type": "code",
   "execution_count": 14,
   "metadata": {},
   "outputs": [],
   "source": [
    "# pred_predy = pred.predict(data)"
   ]
  },
  {
   "cell_type": "code",
   "execution_count": 15,
   "metadata": {},
   "outputs": [],
   "source": [
    "# norm_predy = norm.predict(data, c=.95)"
   ]
  },
  {
   "cell_type": "code",
   "execution_count": 16,
   "metadata": {},
   "outputs": [],
   "source": [
    "# norm_predy.mean()"
   ]
  },
  {
   "cell_type": "code",
   "execution_count": 17,
   "metadata": {},
   "outputs": [],
   "source": [
    "# pred_predy.mean()"
   ]
  },
  {
   "cell_type": "code",
   "execution_count": 18,
   "metadata": {},
   "outputs": [],
   "source": [
    "#     def predicate_labels(self, predicate, data):\n",
    "#         label = data.index.isin(predicate.selected_index).astype(int)\n",
    "#         return label\n",
    "        \n",
    "#     def evaluate_prediction(self, y, predy):\n",
    "#         true_positives = true_positives = ((y == 1).astype(int) * (predy == 1).astype(int)).sum()\n",
    "#         if predy.sum() > 0:\n",
    "#             precision = true_positives / predy.sum()\n",
    "#         else:\n",
    "#             precision = 0\n",
    "#         if y.sum() > 0:\n",
    "#             recall = true_positives / y.sum()\n",
    "#         else:\n",
    "#             recall = 0\n",
    "#         if precision + recall > 0:\n",
    "#             f1 = 2 * (precision*recall) / (precision + recall)\n",
    "#         else:\n",
    "#             f1 = 0\n",
    "#         return precision, recall, f1\n",
    "    \n",
    "#     def evalutate_data(self, data, pred_label):\n",
    "#         att = data.drop('val', axis=1).columns\n",
    "#         med_label = (np.all(data[att] >= self.med_outlier_lower, axis=1\n",
    "#                           ) & np.all(data[att] <= self.med_outlier_upper, axis=1)).astype(int)\n",
    "#         high_label = (np.all(data[att] >= self.high_outlier_lower, axis=1\n",
    "#                           ) & np.all(data[att] <= self.high_outlier_upper, axis=1)).astype(int)\n",
    "#         med_precision, med_recall, med_f1 = self.evaluate_prediction(med_label, pred_label)\n",
    "#         high_precision, high_recall, high_f1 = self.evaluate_prediction(high_label, pred_label)\n",
    "#         return med_precision, med_recall, med_f1, high_precision, high_recall, high_f1\n",
    "    \n",
    "#     def evaluate_predicate(self, predicate, data):\n",
    "#         pred_label = self.predicate_labels(predicate, data)\n",
    "#         return self.evalutate_data(data, pred_label)"
   ]
  },
  {
   "cell_type": "code",
   "execution_count": 19,
   "metadata": {},
   "outputs": [],
   "source": [
    "# def evaluate_data(predicate_search, synth, synth_data):\n",
    "#     results = []\n",
    "#     for c in np.linspace(0, 1, 50):\n",
    "#         p = predicate_search.search_features(\n",
    "#                       c=c, features=synth_data.drop('val', axis=1).columns, maxiters=10)\n",
    "        \n",
    "#         (med_precision, med_recall, med_f1,\n",
    "#         high_precision, high_recall, high_f1) = synth.evaluate_predicate(p, synth_data)\n",
    "#         results.append([c, med_precision, med_recall, med_f1, high_precision, high_recall, high_f1])\n",
    "#     results = pd.DataFrame(results, columns=['c', 'med_precision', 'med_recall', 'med_f1', 'high_precision',\n",
    "#                                              'high_recall', 'high_f1'])\n",
    "#     return results"
   ]
  },
  {
   "cell_type": "code",
   "execution_count": 20,
   "metadata": {},
   "outputs": [],
   "source": [
    "# def evaluate_norm(synth, synth_data, mean, var):\n",
    "#     results = []\n",
    "#     for c in np.linspace(0, 1, 50):\n",
    "#         m = NormAnomalyDetection(mean, var)\n",
    "#         predy = m.predict(synth_data.val, c=c)\n",
    "#         (med_precision, med_recall, med_f1,\n",
    "#         high_precision, high_recall, high_f1) = synth.evalutate_data(synth_data, predy)\n",
    "#         results.append([c, med_precision, med_recall, med_f1, high_precision, high_recall, high_f1])\n",
    "#     results = pd.DataFrame(results, columns=['c', 'med_precision', 'med_recall', 'med_f1', 'high_precision',\n",
    "#                                              'high_recall', 'high_f1'])\n",
    "#     return results"
   ]
  },
  {
   "cell_type": "code",
   "execution_count": 21,
   "metadata": {},
   "outputs": [],
   "source": [
    "# def evaluate_synth(mu, m, mean=10, var=10, n_samples=100):\n",
    "#     all_results = []\n",
    "#     synth = SynthSingleTarget(mu=mu, m=m)\n",
    "#     for i in range(n_samples):\n",
    "#         data = synth.generate_data()\n",
    "#         predicate_data = PredicateData(data)\n",
    "#         disc_data = predicate_data.disc_data\n",
    "#         logp = st.norm(mean, var).logpdf(data.val)\n",
    "#         predicates = predicate_data.get_base_predicates(logp)\n",
    "#         predicate_search = PredicateSearch(predicates)\n",
    "#         results = evaluate_data(predicate_search, synth, data)\n",
    "#         all_results.append(results)\n",
    "#     all_results = pd.concat(all_results)\n",
    "#     return all_results"
   ]
  },
  {
   "cell_type": "code",
   "execution_count": 22,
   "metadata": {},
   "outputs": [],
   "source": [
    "# synth = SynthSingleTarget(mu=80, m=2)\n",
    "# data = synth.generate_data()\n",
    "# predicate_data = PredicateData(data)\n",
    "# disc_data = predicate_data.disc_data\n",
    "# logp = st.norm(10, 10).logpdf(data.val)\n",
    "# predicates = predicate_data.get_base_predicates(logp)\n",
    "# predicate_search = PredicateSearch(predicates)"
   ]
  },
  {
   "cell_type": "code",
   "execution_count": 23,
   "metadata": {},
   "outputs": [],
   "source": [
    "# norm_results = evaluate_norm(synth, data, 10, 10)"
   ]
  },
  {
   "cell_type": "code",
   "execution_count": 24,
   "metadata": {},
   "outputs": [],
   "source": [
    "# pred_results = evaluate_data(predicate_search, synth, data)"
   ]
  },
  {
   "cell_type": "code",
   "execution_count": 25,
   "metadata": {},
   "outputs": [],
   "source": [
    "# pred_results.set_index('c').med_f1.plot()\n",
    "# norm_results.set_index('c').med_f1.plot()"
   ]
  },
  {
   "cell_type": "code",
   "execution_count": 26,
   "metadata": {},
   "outputs": [],
   "source": [
    "# # easy_2d = evaluate_synth(80, 2)\n",
    "# easy_2d = pd.read_csv('easy_2d_results.csv')"
   ]
  },
  {
   "cell_type": "code",
   "execution_count": 27,
   "metadata": {},
   "outputs": [],
   "source": [
    "# sns.lineplot(x=\"c\", y=\"med_precision\", data=easy_2d)\n",
    "# sns.lineplot(x=\"c\", y=\"high_precision\", data=easy_2d)"
   ]
  },
  {
   "cell_type": "code",
   "execution_count": 28,
   "metadata": {},
   "outputs": [],
   "source": [
    "# sns.lineplot(x=\"c\", y=\"med_recall\", data=easy_2d)\n",
    "# sns.lineplot(x=\"c\", y=\"high_recall\", data=easy_2d)"
   ]
  },
  {
   "cell_type": "code",
   "execution_count": 29,
   "metadata": {},
   "outputs": [],
   "source": [
    "# sns.lineplot(x=\"c\", y=\"med_f1\", data=easy_2d)\n",
    "# sns.lineplot(x=\"c\", y=\"high_f1\", data=easy_2d)"
   ]
  },
  {
   "cell_type": "code",
   "execution_count": 30,
   "metadata": {
    "scrolled": true
   },
   "outputs": [],
   "source": [
    "# # hard_2d = evaluate_synth(40, 2)\n",
    "# hard_2d = pd.read_csv('hard_2d_results.csv')"
   ]
  },
  {
   "cell_type": "code",
   "execution_count": 31,
   "metadata": {},
   "outputs": [],
   "source": [
    "# sns.lineplot(x=\"c\", y=\"med_precision\", data=hard_2d)\n",
    "# sns.lineplot(x=\"c\", y=\"high_precision\", data=hard_2d)"
   ]
  },
  {
   "cell_type": "code",
   "execution_count": 32,
   "metadata": {},
   "outputs": [],
   "source": [
    "# sns.lineplot(x=\"c\", y=\"med_recall\", data=hard_2d)\n",
    "# sns.lineplot(x=\"c\", y=\"high_recall\", data=hard_2d)"
   ]
  },
  {
   "cell_type": "code",
   "execution_count": 33,
   "metadata": {},
   "outputs": [],
   "source": [
    "# sns.lineplot(x=\"c\", y=\"med_f1\", data=hard_2d)\n",
    "# sns.lineplot(x=\"c\", y=\"high_f1\", data=hard_2d)"
   ]
  },
  {
   "cell_type": "code",
   "execution_count": 34,
   "metadata": {},
   "outputs": [],
   "source": [
    "# sns.lineplot(x=\"c\", y=\"med_precision\", data=easy_3d)\n",
    "# sns.lineplot(x=\"c\", y=\"high_precision\", data=easy_3d)"
   ]
  },
  {
   "cell_type": "code",
   "execution_count": 35,
   "metadata": {},
   "outputs": [],
   "source": [
    "# sns.lineplot(x=\"c\", y=\"med_recall\", data=easy_3d)\n",
    "# sns.lineplot(x=\"c\", y=\"high_recall\", data=easy_3d)"
   ]
  },
  {
   "cell_type": "code",
   "execution_count": 36,
   "metadata": {},
   "outputs": [],
   "source": [
    "# sns.lineplot(x=\"c\", y=\"med_f1\", data=easy_3d)\n",
    "# sns.lineplot(x=\"c\", y=\"high_f1\", data=easy_3d)"
   ]
  },
  {
   "cell_type": "code",
   "execution_count": 37,
   "metadata": {},
   "outputs": [],
   "source": [
    "# hard_3d = pd.read_csv('hard_3d_results.csv')"
   ]
  },
  {
   "cell_type": "code",
   "execution_count": 38,
   "metadata": {},
   "outputs": [],
   "source": [
    "# sns.lineplot(x=\"c\", y=\"med_precision\", data=hard_3d)\n",
    "# sns.lineplot(x=\"c\", y=\"high_precision\", data=hard_3d)"
   ]
  },
  {
   "cell_type": "code",
   "execution_count": 39,
   "metadata": {},
   "outputs": [],
   "source": [
    "# sns.lineplot(x=\"c\", y=\"med_recall\", data=hard_3d)\n",
    "# sns.lineplot(x=\"c\", y=\"high_recall\", data=hard_3d)"
   ]
  },
  {
   "cell_type": "code",
   "execution_count": 40,
   "metadata": {},
   "outputs": [],
   "source": [
    "# sns.lineplot(x=\"c\", y=\"med_f1\", data=hard_3d)\n",
    "# sns.lineplot(x=\"c\", y=\"high_f1\", data=hard_3d)"
   ]
  },
  {
   "cell_type": "code",
   "execution_count": 41,
   "metadata": {},
   "outputs": [],
   "source": [
    "# synth = SynthSingleTarget(mu=80, m=4)\n",
    "# data = synth.generate_data()\n",
    "# predicate_data = PredicateData(data)\n",
    "# disc_data = predicate_data.disc_data\n",
    "# logp = st.norm(10, 10).logpdf(data.val)\n",
    "# predicates = predicate_data.get_base_predicates(logp)\n",
    "# predicate_search = PredicateSearch(predicates)"
   ]
  },
  {
   "cell_type": "code",
   "execution_count": 42,
   "metadata": {},
   "outputs": [],
   "source": [
    "# p = predicate_search.search_features(c=1, features=data.drop('val', axis=1).columns, maxiters=100)"
   ]
  },
  {
   "cell_type": "code",
   "execution_count": null,
   "metadata": {},
   "outputs": [],
   "source": []
  }
 ],
 "metadata": {
  "kernelspec": {
   "display_name": "Python [conda env:forecasting]",
   "language": "python",
   "name": "conda-env-forecasting-py"
  },
  "language_info": {
   "codemirror_mode": {
    "name": "ipython",
    "version": 3
   },
   "file_extension": ".py",
   "mimetype": "text/x-python",
   "name": "python",
   "nbconvert_exporter": "python",
   "pygments_lexer": "ipython3",
   "version": "3.7.0"
  }
 },
 "nbformat": 4,
 "nbformat_minor": 2
}

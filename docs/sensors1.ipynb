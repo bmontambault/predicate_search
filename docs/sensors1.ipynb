{
 "cells": [
  {
   "cell_type": "code",
   "execution_count": 1,
   "metadata": {},
   "outputs": [],
   "source": [
    "import numpy as np\n",
    "import pandas as pd\n",
    "import seaborn as sns\n",
    "import matplotlib.pyplot as plt\n",
    "import itertools\n",
    "import scipy.stats as st\n",
    "from sklearn.covariance import MinCovDet\n",
    "from time import time\n",
    "\n",
    "from context import predicate_search\n",
    "from predicate_search import PredicateInduction, PredicateData, PredicateSearch, ContBasePredicate, DiscBasePredicate, CompoundPredicate, RobustNormal"
   ]
  },
  {
   "cell_type": "code",
   "execution_count": 2,
   "metadata": {},
   "outputs": [],
   "source": [
    "raw_data = pd.read_csv('../data/sensor_data.csv')\n",
    "raw_data.dtime = pd.to_datetime(raw_data.dtime)\n",
    "startdate = '2004-2-28'\n",
    "enddate = '2004-3-3'\n",
    "df = raw_data[(raw_data.dtime>=startdate) & (raw_data.dtime<=enddate)].reset_index(drop=True)"
   ]
  },
  {
   "cell_type": "code",
   "execution_count": 3,
   "metadata": {},
   "outputs": [],
   "source": [
    "predicate_induction = PredicateInduction()"
   ]
  },
  {
   "cell_type": "code",
   "execution_count": 15,
   "metadata": {
    "scrolled": true
   },
   "outputs": [
    {
     "name": "stderr",
     "output_type": "stream",
     "text": [
      "/Users/bmontambault/anaconda3/envs/forecasting/lib/python3.7/site-packages/theano/tensor/subtensor.py:2197: FutureWarning: Using a non-tuple sequence for multidimensional indexing is deprecated; use `arr[tuple(seq)]` instead of `arr[seq]`. In the future this will be interpreted as an array index, `arr[np.array(seq)]`, which will result either in an error or a different result.\n",
      "  rval = inputs[0].__getitem__(inputs[1:])\n",
      "/Users/bmontambault/anaconda3/envs/forecasting/lib/python3.7/site-packages/theano/tensor/subtensor.py:2339: FutureWarning: Using a non-tuple sequence for multidimensional indexing is deprecated; use `arr[tuple(seq)]` instead of `arr[seq]`. In the future this will be interpreted as an array index, `arr[np.array(seq)]`, which will result either in an error or a different result.\n",
      "  out[0][inputs[2:]] = inputs[1]\n",
      "/Users/bmontambault/anaconda3/envs/forecasting/lib/python3.7/site-packages/pymc3/tuning/starting.py:61: UserWarning: find_MAP should not be used to initialize the NUTS sampler, simply call pymc3.sample() and it will automatically initialize NUTS in a better way.\n",
      "  warnings.warn('find_MAP should not be used to initialize the NUTS sampler, simply call pymc3.sample() and it will automatically initialize NUTS in a better way.')\n",
      "/Users/bmontambault/anaconda3/envs/forecasting/lib/python3.7/site-packages/theano/tensor/basic.py:6611: FutureWarning: Using a non-tuple sequence for multidimensional indexing is deprecated; use `arr[tuple(seq)]` instead of `arr[seq]`. In the future this will be interpreted as an array index, `arr[np.array(seq)]`, which will result either in an error or a different result.\n",
      "  result[diagonal_slice] = x\n",
      "/Users/bmontambault/anaconda3/envs/forecasting/lib/python3.7/site-packages/theano/tensor/subtensor.py:2339: FutureWarning: Using a non-tuple sequence for multidimensional indexing is deprecated; use `arr[tuple(seq)]` instead of `arr[seq]`. In the future this will be interpreted as an array index, `arr[np.array(seq)]`, which will result either in an error or a different result.\n",
      "  out[0][inputs[2:]] = inputs[1]\n",
      "/Users/bmontambault/anaconda3/envs/forecasting/lib/python3.7/site-packages/theano/tensor/subtensor.py:2197: FutureWarning: Using a non-tuple sequence for multidimensional indexing is deprecated; use `arr[tuple(seq)]` instead of `arr[seq]`. In the future this will be interpreted as an array index, `arr[np.array(seq)]`, which will result either in an error or a different result.\n",
      "  rval = inputs[0].__getitem__(inputs[1:])\n",
      "/Users/bmontambault/anaconda3/envs/forecasting/lib/python3.7/site-packages/theano/tensor/subtensor.py:2339: FutureWarning: Using a non-tuple sequence for multidimensional indexing is deprecated; use `arr[tuple(seq)]` instead of `arr[seq]`. In the future this will be interpreted as an array index, `arr[np.array(seq)]`, which will result either in an error or a different result.\n",
      "  out[0][inputs[2:]] = inputs[1]\n",
      "/Users/bmontambault/anaconda3/envs/forecasting/lib/python3.7/site-packages/theano/tensor/basic.py:6611: FutureWarning: Using a non-tuple sequence for multidimensional indexing is deprecated; use `arr[tuple(seq)]` instead of `arr[seq]`. In the future this will be interpreted as an array index, `arr[np.array(seq)]`, which will result either in an error or a different result.\n",
      "  result[diagonal_slice] = x\n",
      "/Users/bmontambault/anaconda3/envs/forecasting/lib/python3.7/site-packages/theano/tensor/subtensor.py:2197: FutureWarning: Using a non-tuple sequence for multidimensional indexing is deprecated; use `arr[tuple(seq)]` instead of `arr[seq]`. In the future this will be interpreted as an array index, `arr[np.array(seq)]`, which will result either in an error or a different result.\n",
      "  rval = inputs[0].__getitem__(inputs[1:])\n",
      "/Users/bmontambault/anaconda3/envs/forecasting/lib/python3.7/site-packages/theano/tensor/subtensor.py:2339: FutureWarning: Using a non-tuple sequence for multidimensional indexing is deprecated; use `arr[tuple(seq)]` instead of `arr[seq]`. In the future this will be interpreted as an array index, `arr[np.array(seq)]`, which will result either in an error or a different result.\n",
      "  out[0][inputs[2:]] = inputs[1]\n"
     ]
    }
   ],
   "source": [
    "predicate_induction.fit(df, how='t', disc_cols=['moteid'])"
   ]
  },
  {
   "cell_type": "code",
   "execution_count": 16,
   "metadata": {},
   "outputs": [],
   "source": [
    "targets = ['temperature']"
   ]
  },
  {
   "cell_type": "code",
   "execution_count": 17,
   "metadata": {},
   "outputs": [],
   "source": [
    "distances = predicate_induction.m.get_distances(predicate_induction.norm_data, targets)"
   ]
  },
  {
   "cell_type": "code",
   "execution_count": 18,
   "metadata": {},
   "outputs": [],
   "source": [
    "d = pd.Series(distances).sort_values(ascending=False).reset_index(drop=True).reset_index()"
   ]
  },
  {
   "cell_type": "code",
   "execution_count": 19,
   "metadata": {},
   "outputs": [
    {
     "data": {
      "text/plain": [
       "<matplotlib.axes._subplots.AxesSubplot at 0x135de2390>"
      ]
     },
     "execution_count": 19,
     "metadata": {},
     "output_type": "execute_result"
    },
    {
     "data": {
      "image/png": "[encoded data removed]",
      "text/plain": [
       "<Figure size 432x288 with 1 Axes>"
      ]
     },
     "metadata": {
      "needs_background": "light"
     },
     "output_type": "display_data"
    }
   ],
   "source": [
    "d.plot.scatter(x='index', y=0)"
   ]
  },
  {
   "cell_type": "code",
   "execution_count": 20,
   "metadata": {},
   "outputs": [],
   "source": [
    "threshold = 30"
   ]
  },
  {
   "cell_type": "code",
   "execution_count": 31,
   "metadata": {},
   "outputs": [
    {
     "name": "stdout",
     "output_type": "stream",
     "text": [
      "iter 0\n",
      "voltage: [(71, 72)] 25264821.26606269\n",
      "humidity: [(96, 96)] 25264821.266062688\n",
      "humidity: [(95, 95)] 11641514.60961186\n",
      "voltage: [(73, 73)] 3900039.9074993543\n",
      "dtime: [(82, 82)] 1237545.702474342\n",
      "moteid: [15.0] 1137425.3606808472\n",
      "dtime: [(90, 90)] 978167.6005195888\n",
      "\n",
      "[humidity: [(96, 96)], voltage: [(71, 72)]]\n",
      "iter 0\n",
      "[dtime: [(82, 82)], moteid: [15.0]] 25264821.266062688\n",
      "[dtime: [(90, 90)], moteid: [15.0]] 25264821.266062688\n",
      "\n",
      "iter 1\n",
      "[dtime: [(82, 82), (90, 90)], moteid: [15.0]] 25264821.266062688\n",
      "\n",
      "[[dtime: [(82, 82), (90, 90)], moteid: [15.0]]]\n",
      "7.0347678661346436\n"
     ]
    }
   ],
   "source": [
    "tick = time()\n",
    "predicates = predicate_induction.predicate_induction(targets, threshold, c=1, quantile=.25, verbose=True)\n",
    "print(time() - tick)"
   ]
  },
  {
   "cell_type": "code",
   "execution_count": 32,
   "metadata": {},
   "outputs": [
    {
     "data": {
      "text/plain": [
       "[humidity: [(1.6945400000000002, 16.8286)],\n",
       " voltage: [(2.27556, 2.3291)],\n",
       " [dtime: [(Timestamp('2004-03-02 07:40:59.828653'), Timestamp('2004-03-02 23:59:59.543254'))], moteid: [15.0]]]"
      ]
     },
     "execution_count": 32,
     "metadata": {},
     "output_type": "execute_result"
    }
   ],
   "source": [
    "predicates"
   ]
  },
  {
   "cell_type": "code",
   "execution_count": 33,
   "metadata": {},
   "outputs": [
    {
     "name": "stdout",
     "output_type": "stream",
     "text": [
      "iter 0\n",
      "voltage: [(71, 72)] 25264821.26606269\n",
      "humidity: [(96, 96)] 25264821.266062688\n",
      "humidity: [(95, 95)] 11641514.60961186\n",
      "voltage: [(73, 73)] 3900039.9074993543\n",
      "voltage: [(88, 88)] 1775724.5357988658\n",
      "voltage: [(87, 87)] 1442482.7721650037\n",
      "dtime: [(82, 82)] 1237545.702474342\n",
      "dtime: [(83, 83)] 1147577.8298266698\n",
      "moteid: [15.0] 1137425.3606808472\n",
      "dtime: [(84, 84)] 1113958.2009362674\n",
      "voltage: [(86, 86)] 1111699.140771229\n",
      "dtime: [(62, 62)] 1092798.039069536\n",
      "dtime: [(61, 61)] 1051401.9227751615\n",
      "dtime: [(63, 63)] 1036456.4389135378\n",
      "dtime: [(64, 64)] 1031643.2519367911\n",
      "dtime: [(65, 65)] 1020697.5444454289\n",
      "dtime: [(87, 87)] 1018872.3659297776\n",
      "dtime: [(66, 66)] 1016609.1541615608\n",
      "dtime: [(88, 88)] 1006858.1737124404\n",
      "dtime: [(13, 13)] 993603.6736662063\n",
      "voltage: [(85, 85)] 990467.4083721353\n",
      "dtime: [(86, 86)] 989686.2421214588\n",
      "dtime: [(89, 89)] 989221.0324791237\n",
      "dtime: [(67, 67)] 986632.5653580889\n",
      "dtime: [(90, 90)] 978167.6005195888\n",
      "light: [(99, 99)] 968606.0613211665\n",
      "dtime: [(85, 85)] 963761.1418881356\n",
      "dtime: [(12, 12)] 962253.0901870218\n",
      "dtime: [(14, 14)] 960614.6425150627\n",
      "humidity: [(97, 97)] 949237.2585317009\n",
      "dtime: [(60, 60)] 935821.8965997399\n",
      "light: [(95, 95)] 928166.9363467261\n",
      "light: [(92, 92)] 921504.2606605871\n",
      "dtime: [(11, 11)] 920751.1586257628\n",
      "light: [(83, 83)] 920730.6536763386\n",
      "light: [(80, 80)] 916163.9184357431\n",
      "dtime: [(59, 59)] 916126.4806423241\n",
      "light: [(89, 89)] 912976.2669497391\n",
      "light: [(86, 86)] 912578.0428755655\n",
      "light: [(73, 73)] 911761.98722951\n",
      "light: [(18, 18)] 908383.9353645673\n",
      "dtime: [(91, 91)] 907146.703529932\n",
      "dtime: [(15, 15)] 903006.6194233801\n",
      "light: [(76, 76)] 893402.0705008507\n",
      "light: [(70, 70)] 891733.5065501836\n",
      "light: [(39, 39)] 891515.876827855\n",
      "light: [(41, 41)] 889862.3649132355\n",
      "dtime: [(10, 10)] 884790.8841500682\n",
      "light: [(51, 51)] 878065.4888048717\n",
      "light: [(64, 64)] 874564.2298863683\n",
      "light: [(54, 54)] 873789.4193913437\n",
      "light: [(57, 57)] 871827.6387867195\n",
      "light: [(67, 67)] 867871.9032256083\n",
      "light: [(16, 16)] 866987.4540308861\n",
      "light: [(61, 61)] 866056.8933105515\n",
      "light: [(42, 42)] 862578.1875935267\n",
      "light: [(30, 30)] 860857.7102505142\n",
      "light: [(49, 49)] 860026.2644960482\n",
      "light: [(14, 14)] 859060.1663155687\n",
      "light: [(38, 38)] 857153.3440540929\n",
      "light: [(44, 44)] 855172.185597566\n",
      "light: [(31, 31)] 852719.7524312275\n",
      "light: [(28, 28)] 852434.3806489939\n",
      "light: [(36, 36)] 851614.1547014833\n",
      "light: [(27, 27)] 846756.7730231786\n",
      "light: [(13, 13)] 839414.2727693688\n",
      "light: [(20, 20)] 836304.5836279412\n",
      "light: [(15, 15)] 835955.4745980949\n",
      "moteid: [21.0] 835926.7751122117\n",
      "dtime: [(16, 16)] 835333.888470466\n",
      "light: [(25, 25)] 834099.0231192142\n",
      "light: [(17, 17)] 833397.5509193059\n",
      "light: [(21, 21)] 830760.4592164712\n",
      "light: [(46, 46)] 830673.788238815\n",
      "light: [(22, 22)] 827342.334947647\n",
      "light: [(19, 19)] 827076.5261299328\n",
      "dtime: [(58, 58)] 826733.8139162099\n",
      "light: [(47, 47)] 826588.9250417479\n",
      "dtime: [(92, 92)] 825142.0793384415\n",
      "light: [(35, 35)] 816599.8318754042\n",
      "light: [(33, 33)] 813996.3241487752\n",
      "moteid: [25.0] 811333.771339198\n",
      "dtime: [(93, 93)] 811077.0488777014\n",
      "dtime: [(9, 9)] 810487.0538297136\n",
      "moteid: [24.0] 809297.2396561685\n",
      "voltage: [(84, 84)] 802565.6813701973\n",
      "light: [(24, 24)] 801238.57819672\n",
      "light: [(23, 23)] 801067.6397815814\n",
      "moteid: [23.0] 797812.302392751\n",
      "moteid: [22.0] 796941.4348443053\n",
      "light: [(12, 12)] 790194.9934656299\n",
      "light: [(11, 11)] 788191.8703505422\n",
      "dtime: [(68, 68)] 776247.79118351\n",
      "dtime: [(94, 94)] 775385.8363439295\n",
      "dtime: [(17, 17)] 772332.4924711657\n",
      "voltage: [(99, 99)] 766479.2089910485\n",
      "moteid: [26.0] 757672.4944468045\n",
      "moteid: [29.0] 755546.5571464358\n",
      "moteid: [31.0] 752761.8037855906\n",
      "light: [(10, 10)] 747894.598993624\n",
      "dtime: [(57, 57)] 745946.7859933615\n",
      "dtime: [(38, 38)] 745805.227054626\n",
      "dtime: [(95, 95)] 741814.7976555713\n",
      "moteid: [27.0] 738898.0731460797\n",
      "dtime: [(39, 39)] 738629.4052318454\n",
      "moteid: [41.0] 734261.7853529319\n",
      "moteid: [19.0] 732854.7567949868\n",
      "moteid: [4.0] 731260.6593238694\n",
      "dtime: [(69, 69)] 727876.3583506614\n",
      "moteid: [20.0] 727712.9933281395\n",
      "moteid: [40.0] 727067.8590408186\n",
      "moteid: [37.0] 725900.772608402\n",
      "moteid: [33.0] 725696.8717872446\n",
      "moteid: [3.0] 724872.2336791978\n",
      "dtime: [(36, 36)] 723415.7621436386\n",
      "dtime: [(37, 37)] 723059.2394745541\n",
      "moteid: [1.0] 721369.7804234398\n",
      "moteid: [43.0] 720759.0554445081\n",
      "moteid: [18.0] 717771.2420455212\n",
      "moteid: [32.0] 717305.0797978567\n",
      "moteid: [30.0] 714822.0214748618\n",
      "dtime: [(18, 18)] 711979.1528109056\n",
      "dtime: [(96, 96)] 707994.49097216\n",
      "moteid: [39.0] 707132.1250603274\n",
      "dtime: [(81, 81)] 704024.9500652105\n",
      "moteid: [7.0] 702232.38766321\n",
      "dtime: [(35, 35)] 701711.0790050498\n",
      "moteid: [38.0] 701165.1631803558\n",
      "moteid: [17.0] 698623.8884459411\n",
      "moteid: [2.0] 697513.0182143544\n",
      "voltage: [(78, 78)] 696059.3568163727\n",
      "light: [(9, 9)] 696028.5581942798\n",
      "moteid: [35.0] 695545.4066778695\n",
      "light: [(7, 7)] 695333.0099662505\n",
      "moteid: [6.0] 695242.7650973054\n",
      "moteid: [42.0] 692338.4528442557\n",
      "light: [(8, 8)] 691499.5537830781\n",
      "moteid: [9.0] 691304.3859982511\n",
      "dtime: [(99, 99)] 689213.3301623577\n",
      "dtime: [(8, 8)] 686600.0658700677\n",
      "dtime: [(40, 40)] 684909.055841594\n",
      "dtime: [(70, 70)] 683146.1446708404\n",
      "moteid: [8.0] 681299.3935483525\n",
      "dtime: [(19, 19)] 681128.8601397737\n",
      "moteid: [36.0] 679545.3404235727\n",
      "voltage: [(79, 79)] 679301.2490679058\n",
      "moteid: [14.0] 676834.9979684976\n",
      "dtime: [(97, 97)] 676346.8274303812\n",
      "moteid: [10.0] 676185.5976282731\n",
      "moteid: [45.0] 663088.7375969702\n",
      "light: [(6, 6)] 661210.5730586003\n",
      "moteid: [16.0] 660179.8322440628\n",
      "voltage: [(83, 83)] 657383.184197079\n",
      "dtime: [(20, 20)] 657372.5915033\n",
      "moteid: [44.0] 656436.8832527123\n",
      "dtime: [(71, 71)] 655783.6382565357\n",
      "moteid: [13.0] 655768.2933020206\n",
      "dtime: [(98, 98)] 654064.3315173194\n",
      "moteid: [34.0] 651759.8049932686\n",
      "dtime: [(34, 34)] 650435.8569545688\n",
      "moteid: [46.0] 650003.6263222155\n",
      "moteid: [47.0] 649043.5718899769\n",
      "dtime: [(41, 41)] 647152.1017341014\n",
      "voltage: [(98, 98)] 645992.6158652562\n",
      "moteid: [11.0] 641850.4983751266\n",
      "light: [(4, 4)] 637932.4541716577\n",
      "dtime: [(33, 33)] 637317.5199197715\n",
      "dtime: [(56, 56)] 633470.7865196494\n",
      "dtime: [(21, 21)] 631870.22971649\n",
      "moteid: [49.0] 624787.2788758202\n",
      "dtime: [(42, 42)] 622996.6966148214\n",
      "moteid: [48.0] 621923.5555267195\n",
      "moteid: [51.0] 618220.5444920406\n",
      "dtime: [(72, 72)] 612116.413946914\n",
      "moteid: [54.0] 609874.695889267\n",
      "moteid: [52.0] 609646.3873486011\n",
      "light: [(5, 5)] 604211.9372046348\n",
      "\n",
      "[humidity: [(96, 96)], voltage: [(71, 72)]]\n",
      "iter 0\n",
      "[dtime: [(82, 82)], moteid: [15.0]] 25264821.266062688\n",
      "[dtime: [(90, 90)], moteid: [15.0]] 25264821.266062688\n",
      "[dtime: [(81, 81)], moteid: [15.0]] 25264821.266062688\n",
      "\n",
      "iter 1\n",
      "[dtime: [(81, 82)], moteid: [15.0]] 25264821.26606269\n",
      "[dtime: [(82, 82), (90, 90)], moteid: [15.0]] 25264821.266062688\n",
      "[dtime: [(81, 81), (90, 90)], moteid: [15.0]] 25264821.266062688\n",
      "\n",
      "iter 2\n",
      "[dtime: [(81, 82), (90, 90)], moteid: [15.0]] 25264821.26606269\n",
      "\n",
      "[[dtime: [(81, 82), (90, 90)], moteid: [15.0]]]\n",
      "11.342840671539307\n"
     ]
    }
   ],
   "source": [
    "tick = time()\n",
    "predicates = predicate_induction.predicate_induction(targets, threshold=None, c=1, quantile=.25, verbose=True)\n",
    "print(time() - tick)"
   ]
  },
  {
   "cell_type": "code",
   "execution_count": 28,
   "metadata": {},
   "outputs": [
    {
     "data": {
      "text/plain": [
       "[humidity: [(1.6945400000000002, 16.8286)],\n",
       " voltage: [(2.27556, 2.3291)],\n",
       " [dtime: [(Timestamp('2004-03-02 06:43:24.394061'), Timestamp('2004-03-02 23:59:59.543254'))], moteid: [15.0]]]"
      ]
     },
     "execution_count": 28,
     "metadata": {},
     "output_type": "execute_result"
    }
   ],
   "source": [
    "predicates"
   ]
  }
 ],
 "metadata": {
  "kernelspec": {
   "display_name": "Python [conda env:forecasting]",
   "language": "python",
   "name": "conda-env-forecasting-py"
  },
  "language_info": {
   "codemirror_mode": {
    "name": "ipython",
    "version": 3
   },
   "file_extension": ".py",
   "mimetype": "text/x-python",
   "name": "python",
   "nbconvert_exporter": "python",
   "pygments_lexer": "ipython3",
   "version": "3.7.0"
  }
 },
 "nbformat": 4,
 "nbformat_minor": 2
}

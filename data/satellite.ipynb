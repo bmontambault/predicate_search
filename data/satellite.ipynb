{
 "cells": [
  {
   "cell_type": "code",
   "execution_count": 1,
   "metadata": {},
   "outputs": [],
   "source": [
    "import pandas as pd\n",
    "import numpy as np\n",
    "import matplotlib.pyplot as plt\n",
    "import itertools"
   ]
  },
  {
   "cell_type": "markdown",
   "metadata": {},
   "source": [
    "original breast cancer data: https://archive.ics.uci.edu/ml/datasets/Statlog+(Landsat+Satellite)"
   ]
  },
  {
   "cell_type": "markdown",
   "metadata": {},
   "source": [
    "download original satellite train data: https://tufts.box.com/s/dgueo97bahj6qnfxpmjwppqrx6648eow\n",
    "        \n",
    "download original satellite test data: https://tufts.box.com/s/6w25hwhewbsxt404kbmsturjf1k65kmo"
   ]
  },
  {
   "cell_type": "code",
   "execution_count": 8,
   "metadata": {},
   "outputs": [],
   "source": [
    "satellite_train = pd.read_csv('satellite_original.trn', header=None, delimiter=r\"\\s+\")\n",
    "satellite_test = pd.read_csv('satellite_original.trn', header=None, delimiter=r\"\\s+\")\n",
    "satellite_data = pd.concat([satellite_train, satellite_test])"
   ]
  },
  {
   "cell_type": "code",
   "execution_count": 9,
   "metadata": {},
   "outputs": [],
   "source": [
    "labels = dict([(int(a.split(' ')[0]), ' '.join(a.split(' ')[1:])) for a in '''1 red soil\n",
    "2 cotton crop\n",
    "3 grey soil\n",
    "4 damp grey soil\n",
    "5 soil with vegetation stubble\n",
    "6 mixture class (all types present)\n",
    "7 very damp grey soil'''.split('\\n')])"
   ]
  },
  {
   "cell_type": "code",
   "execution_count": 10,
   "metadata": {},
   "outputs": [],
   "source": [
    "satellite_data[36] = satellite_data[36].map(labels)"
   ]
  },
  {
   "cell_type": "code",
   "execution_count": 11,
   "metadata": {},
   "outputs": [],
   "source": [
    "satellite_data.to_csv('satellite_data.csv', index=False)"
   ]
  },
  {
   "cell_type": "markdown",
   "metadata": {},
   "source": [
    "processed data uploaded here: https://tufts.box.com/s/mps252wo3zlkjmib5dc5wws9ralhu2hq"
   ]
  },
  {
   "cell_type": "markdown",
   "metadata": {},
   "source": [
    "### Scenario 1\n",
    "\n",
    "Red soil, gray soil, damp gray soil, and very damp soil taken as normal data. 75 random samples are added from cotton crop and vegetation stubble.\n",
    "\n",
    "download setellite data: https://tufts.box.com/s/mps252wo3zlkjmib5dc5wws9ralhu2hq"
   ]
  },
  {
   "cell_type": "code",
   "execution_count": 15,
   "metadata": {},
   "outputs": [],
   "source": [
    "np.random.seed(574823)"
   ]
  },
  {
   "cell_type": "code",
   "execution_count": 17,
   "metadata": {},
   "outputs": [],
   "source": [
    "satellite_normal_s1 = satellite_data[satellite_data[36].isin(\n",
    "    ['red soil', 'gray soil', 'damp gray soil', 'very damp gray soil'])].assign(label='0')\n",
    "satellite_anomalies_s1 = satellite_data[satellite_data[36].isin(['cotton crop', 'vegetation stubble']\n",
    "                                                         )].assign(label='1').sample(75)"
   ]
  },
  {
   "cell_type": "code",
   "execution_count": 22,
   "metadata": {},
   "outputs": [],
   "source": [
    "satellite_s1 = pd.concat([satellite_normal_s1, satellite_anomalies_s1]).drop([36, 'label'], axis=1)"
   ]
  },
  {
   "cell_type": "code",
   "execution_count": 24,
   "metadata": {},
   "outputs": [
    {
     "data": {
      "text/html": [
       "<div>\n",
       "<style scoped>\n",
       "    .dataframe tbody tr th:only-of-type {\n",
       "        vertical-align: middle;\n",
       "    }\n",
       "\n",
       "    .dataframe tbody tr th {\n",
       "        vertical-align: top;\n",
       "    }\n",
       "\n",
       "    .dataframe thead th {\n",
       "        text-align: right;\n",
       "    }\n",
       "</style>\n",
       "<table border=\"1\" class=\"dataframe\">\n",
       "  <thead>\n",
       "    <tr style=\"text-align: right;\">\n",
       "      <th></th>\n",
       "      <th>0</th>\n",
       "      <th>1</th>\n",
       "      <th>2</th>\n",
       "      <th>3</th>\n",
       "      <th>4</th>\n",
       "      <th>5</th>\n",
       "      <th>6</th>\n",
       "      <th>7</th>\n",
       "      <th>8</th>\n",
       "      <th>9</th>\n",
       "      <th>...</th>\n",
       "      <th>26</th>\n",
       "      <th>27</th>\n",
       "      <th>28</th>\n",
       "      <th>29</th>\n",
       "      <th>30</th>\n",
       "      <th>31</th>\n",
       "      <th>32</th>\n",
       "      <th>33</th>\n",
       "      <th>34</th>\n",
       "      <th>35</th>\n",
       "    </tr>\n",
       "  </thead>\n",
       "  <tbody>\n",
       "    <tr>\n",
       "      <th>2045</th>\n",
       "      <td>63</td>\n",
       "      <td>77</td>\n",
       "      <td>86</td>\n",
       "      <td>68</td>\n",
       "      <td>67</td>\n",
       "      <td>84</td>\n",
       "      <td>93</td>\n",
       "      <td>75</td>\n",
       "      <td>71</td>\n",
       "      <td>91</td>\n",
       "      <td>...</td>\n",
       "      <td>106</td>\n",
       "      <td>83</td>\n",
       "      <td>76</td>\n",
       "      <td>111</td>\n",
       "      <td>120</td>\n",
       "      <td>94</td>\n",
       "      <td>76</td>\n",
       "      <td>115</td>\n",
       "      <td>120</td>\n",
       "      <td>102</td>\n",
       "    </tr>\n",
       "    <tr>\n",
       "      <th>2046</th>\n",
       "      <td>67</td>\n",
       "      <td>84</td>\n",
       "      <td>93</td>\n",
       "      <td>75</td>\n",
       "      <td>71</td>\n",
       "      <td>91</td>\n",
       "      <td>101</td>\n",
       "      <td>83</td>\n",
       "      <td>75</td>\n",
       "      <td>99</td>\n",
       "      <td>...</td>\n",
       "      <td>120</td>\n",
       "      <td>94</td>\n",
       "      <td>76</td>\n",
       "      <td>115</td>\n",
       "      <td>120</td>\n",
       "      <td>102</td>\n",
       "      <td>72</td>\n",
       "      <td>115</td>\n",
       "      <td>120</td>\n",
       "      <td>102</td>\n",
       "    </tr>\n",
       "    <tr>\n",
       "      <th>2047</th>\n",
       "      <td>75</td>\n",
       "      <td>99</td>\n",
       "      <td>105</td>\n",
       "      <td>86</td>\n",
       "      <td>75</td>\n",
       "      <td>103</td>\n",
       "      <td>110</td>\n",
       "      <td>86</td>\n",
       "      <td>71</td>\n",
       "      <td>99</td>\n",
       "      <td>...</td>\n",
       "      <td>120</td>\n",
       "      <td>102</td>\n",
       "      <td>72</td>\n",
       "      <td>115</td>\n",
       "      <td>125</td>\n",
       "      <td>98</td>\n",
       "      <td>72</td>\n",
       "      <td>115</td>\n",
       "      <td>120</td>\n",
       "      <td>98</td>\n",
       "    </tr>\n",
       "    <tr>\n",
       "      <th>2090</th>\n",
       "      <td>60</td>\n",
       "      <td>79</td>\n",
       "      <td>89</td>\n",
       "      <td>65</td>\n",
       "      <td>63</td>\n",
       "      <td>84</td>\n",
       "      <td>89</td>\n",
       "      <td>73</td>\n",
       "      <td>67</td>\n",
       "      <td>97</td>\n",
       "      <td>...</td>\n",
       "      <td>100</td>\n",
       "      <td>81</td>\n",
       "      <td>71</td>\n",
       "      <td>103</td>\n",
       "      <td>118</td>\n",
       "      <td>96</td>\n",
       "      <td>76</td>\n",
       "      <td>116</td>\n",
       "      <td>122</td>\n",
       "      <td>99</td>\n",
       "    </tr>\n",
       "    <tr>\n",
       "      <th>2091</th>\n",
       "      <td>67</td>\n",
       "      <td>97</td>\n",
       "      <td>101</td>\n",
       "      <td>80</td>\n",
       "      <td>74</td>\n",
       "      <td>102</td>\n",
       "      <td>114</td>\n",
       "      <td>90</td>\n",
       "      <td>74</td>\n",
       "      <td>115</td>\n",
       "      <td>...</td>\n",
       "      <td>122</td>\n",
       "      <td>99</td>\n",
       "      <td>76</td>\n",
       "      <td>112</td>\n",
       "      <td>128</td>\n",
       "      <td>99</td>\n",
       "      <td>80</td>\n",
       "      <td>116</td>\n",
       "      <td>128</td>\n",
       "      <td>103</td>\n",
       "    </tr>\n",
       "  </tbody>\n",
       "</table>\n",
       "<p>5 rows × 36 columns</p>\n",
       "</div>"
      ],
      "text/plain": [
       "      0   1    2   3   4    5    6   7   8    9  ...    26   27  28   29   30  \\\n",
       "2045  63  77   86  68  67   84   93  75  71   91 ...   106   83  76  111  120   \n",
       "2046  67  84   93  75  71   91  101  83  75   99 ...   120   94  76  115  120   \n",
       "2047  75  99  105  86  75  103  110  86  71   99 ...   120  102  72  115  125   \n",
       "2090  60  79   89  65  63   84   89  73  67   97 ...   100   81  71  103  118   \n",
       "2091  67  97  101  80  74  102  114  90  74  115 ...   122   99  76  112  128   \n",
       "\n",
       "       31  32   33   34   35  \n",
       "2045   94  76  115  120  102  \n",
       "2046  102  72  115  120  102  \n",
       "2047   98  72  115  120   98  \n",
       "2090   96  76  116  122   99  \n",
       "2091   99  80  116  128  103  \n",
       "\n",
       "[5 rows x 36 columns]"
      ]
     },
     "execution_count": 24,
     "metadata": {},
     "output_type": "execute_result"
    }
   ],
   "source": [
    "satellite_s1.head()"
   ]
  },
  {
   "cell_type": "code",
   "execution_count": 25,
   "metadata": {},
   "outputs": [],
   "source": [
    "satellite_s1.to_csv('satellite_s1.csv', index=False)"
   ]
  },
  {
   "cell_type": "code",
   "execution_count": null,
   "metadata": {},
   "outputs": [],
   "source": []
  }
 ],
 "metadata": {
  "kernelspec": {
   "display_name": "'Python Interactive'",
   "language": "python",
   "name": "867a3e85-e283-4789-beeb-4562585aa7f2"
  },
  "language_info": {
   "codemirror_mode": {
    "name": "ipython",
    "version": 3
   },
   "file_extension": ".py",
   "mimetype": "text/x-python",
   "name": "python",
   "nbconvert_exporter": "python",
   "pygments_lexer": "ipython3",
   "version": "3.7.0"
  }
 },
 "nbformat": 4,
 "nbformat_minor": 2
}
